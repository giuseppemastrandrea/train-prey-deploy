{
 "cells": [
  {
   "cell_type": "markdown",
   "id": "0f49b0a6",
   "metadata": {},
   "source": [
    "## Covered Topics"
   ]
  },
  {
   "cell_type": "code",
   "execution_count": 30,
   "id": "8302f26b",
   "metadata": {},
   "outputs": [
    {
     "name": "stdout",
     "output_type": "stream",
     "text": [
      "Requirement already satisfied: langchain-community in /Users/giumast/miniforge3/envs/tensorflow/lib/python3.10/site-packages (0.2.0)\n",
      "Requirement already satisfied: langchain_chroma in /Users/giumast/miniforge3/envs/tensorflow/lib/python3.10/site-packages (0.1.1)\n",
      "Collecting langchainhub\n",
      "  Using cached langchainhub-0.1.15-py3-none-any.whl (4.6 kB)\n",
      "Requirement already satisfied: SQLAlchemy<3,>=1.4 in /Users/giumast/miniforge3/envs/tensorflow/lib/python3.10/site-packages (from langchain-community) (2.0.29)\n",
      "Requirement already satisfied: aiohttp<4.0.0,>=3.8.3 in /Users/giumast/miniforge3/envs/tensorflow/lib/python3.10/site-packages (from langchain-community) (3.9.5)\n",
      "Requirement already satisfied: tenacity<9.0.0,>=8.1.0 in /Users/giumast/miniforge3/envs/tensorflow/lib/python3.10/site-packages (from langchain-community) (8.3.0)\n",
      "Requirement already satisfied: PyYAML>=5.3 in /Users/giumast/miniforge3/envs/tensorflow/lib/python3.10/site-packages (from langchain-community) (6.0)\n",
      "Requirement already satisfied: numpy<2,>=1 in /Users/giumast/miniforge3/envs/tensorflow/lib/python3.10/site-packages (from langchain-community) (1.26.4)\n",
      "Requirement already satisfied: langsmith<0.2.0,>=0.1.0 in /Users/giumast/miniforge3/envs/tensorflow/lib/python3.10/site-packages (from langchain-community) (0.1.60)\n",
      "Requirement already satisfied: langchain<0.3.0,>=0.2.0 in /Users/giumast/miniforge3/envs/tensorflow/lib/python3.10/site-packages (from langchain-community) (0.2.0)\n",
      "Requirement already satisfied: dataclasses-json<0.7,>=0.5.7 in /Users/giumast/miniforge3/envs/tensorflow/lib/python3.10/site-packages (from langchain-community) (0.6.6)\n",
      "Requirement already satisfied: langchain-core<0.3.0,>=0.2.0 in /Users/giumast/miniforge3/envs/tensorflow/lib/python3.10/site-packages (from langchain-community) (0.2.1)\n",
      "Requirement already satisfied: requests<3,>=2 in /Users/giumast/miniforge3/envs/tensorflow/lib/python3.10/site-packages (from langchain-community) (2.28.1)\n",
      "Requirement already satisfied: chromadb<0.6.0,>=0.4.0 in /Users/giumast/miniforge3/envs/tensorflow/lib/python3.10/site-packages (from langchain_chroma) (0.5.0)\n",
      "Requirement already satisfied: fastapi<1,>=0.95.2 in /Users/giumast/miniforge3/envs/tensorflow/lib/python3.10/site-packages (from langchain_chroma) (0.111.0)\n",
      "Collecting types-requests<3.0.0.0,>=2.31.0.2\n",
      "  Downloading types_requests-2.32.0.20240521-py3-none-any.whl (15 kB)\n",
      "Requirement already satisfied: attrs>=17.3.0 in /Users/giumast/miniforge3/envs/tensorflow/lib/python3.10/site-packages (from aiohttp<4.0.0,>=3.8.3->langchain-community) (21.4.0)\n",
      "Requirement already satisfied: aiosignal>=1.1.2 in /Users/giumast/miniforge3/envs/tensorflow/lib/python3.10/site-packages (from aiohttp<4.0.0,>=3.8.3->langchain-community) (1.3.1)\n",
      "Requirement already satisfied: async-timeout<5.0,>=4.0 in /Users/giumast/miniforge3/envs/tensorflow/lib/python3.10/site-packages (from aiohttp<4.0.0,>=3.8.3->langchain-community) (4.0.3)\n",
      "Requirement already satisfied: yarl<2.0,>=1.0 in /Users/giumast/miniforge3/envs/tensorflow/lib/python3.10/site-packages (from aiohttp<4.0.0,>=3.8.3->langchain-community) (1.9.4)\n",
      "Requirement already satisfied: multidict<7.0,>=4.5 in /Users/giumast/miniforge3/envs/tensorflow/lib/python3.10/site-packages (from aiohttp<4.0.0,>=3.8.3->langchain-community) (6.0.5)\n",
      "Requirement already satisfied: frozenlist>=1.1.1 in /Users/giumast/miniforge3/envs/tensorflow/lib/python3.10/site-packages (from aiohttp<4.0.0,>=3.8.3->langchain-community) (1.4.1)\n",
      "Requirement already satisfied: posthog>=2.4.0 in /Users/giumast/miniforge3/envs/tensorflow/lib/python3.10/site-packages (from chromadb<0.6.0,>=0.4.0->langchain_chroma) (3.5.0)\n",
      "Requirement already satisfied: importlib-resources in /Users/giumast/miniforge3/envs/tensorflow/lib/python3.10/site-packages (from chromadb<0.6.0,>=0.4.0->langchain_chroma) (5.8.0)\n",
      "Requirement already satisfied: onnxruntime>=1.14.1 in /Users/giumast/miniforge3/envs/tensorflow/lib/python3.10/site-packages (from chromadb<0.6.0,>=0.4.0->langchain_chroma) (1.18.0)\n",
      "Requirement already satisfied: pydantic>=1.9 in /Users/giumast/miniforge3/envs/tensorflow/lib/python3.10/site-packages (from chromadb<0.6.0,>=0.4.0->langchain_chroma) (2.5.3)\n",
      "Requirement already satisfied: opentelemetry-sdk>=1.2.0 in /Users/giumast/miniforge3/envs/tensorflow/lib/python3.10/site-packages (from chromadb<0.6.0,>=0.4.0->langchain_chroma) (1.24.0)\n",
      "Requirement already satisfied: tokenizers>=0.13.2 in /Users/giumast/miniforge3/envs/tensorflow/lib/python3.10/site-packages (from chromadb<0.6.0,>=0.4.0->langchain_chroma) (0.19.1)\n",
      "Requirement already satisfied: build>=1.0.3 in /Users/giumast/miniforge3/envs/tensorflow/lib/python3.10/site-packages (from chromadb<0.6.0,>=0.4.0->langchain_chroma) (1.2.1)\n",
      "Requirement already satisfied: uvicorn[standard]>=0.18.3 in /Users/giumast/miniforge3/envs/tensorflow/lib/python3.10/site-packages (from chromadb<0.6.0,>=0.4.0->langchain_chroma) (0.29.0)\n",
      "Requirement already satisfied: typer>=0.9.0 in /Users/giumast/miniforge3/envs/tensorflow/lib/python3.10/site-packages (from chromadb<0.6.0,>=0.4.0->langchain_chroma) (0.12.3)\n",
      "Requirement already satisfied: pypika>=0.48.9 in /Users/giumast/miniforge3/envs/tensorflow/lib/python3.10/site-packages (from chromadb<0.6.0,>=0.4.0->langchain_chroma) (0.48.9)\n",
      "Requirement already satisfied: opentelemetry-exporter-otlp-proto-grpc>=1.2.0 in /Users/giumast/miniforge3/envs/tensorflow/lib/python3.10/site-packages (from chromadb<0.6.0,>=0.4.0->langchain_chroma) (1.24.0)\n",
      "Requirement already satisfied: typing-extensions>=4.5.0 in /Users/giumast/miniforge3/envs/tensorflow/lib/python3.10/site-packages (from chromadb<0.6.0,>=0.4.0->langchain_chroma) (4.9.0)\n",
      "Requirement already satisfied: opentelemetry-api>=1.2.0 in /Users/giumast/miniforge3/envs/tensorflow/lib/python3.10/site-packages (from chromadb<0.6.0,>=0.4.0->langchain_chroma) (1.24.0)\n",
      "Requirement already satisfied: bcrypt>=4.0.1 in /Users/giumast/miniforge3/envs/tensorflow/lib/python3.10/site-packages (from chromadb<0.6.0,>=0.4.0->langchain_chroma) (4.1.3)\n",
      "Requirement already satisfied: chroma-hnswlib==0.7.3 in /Users/giumast/miniforge3/envs/tensorflow/lib/python3.10/site-packages (from chromadb<0.6.0,>=0.4.0->langchain_chroma) (0.7.3)\n",
      "Requirement already satisfied: tqdm>=4.65.0 in /Users/giumast/miniforge3/envs/tensorflow/lib/python3.10/site-packages (from chromadb<0.6.0,>=0.4.0->langchain_chroma) (4.66.4)\n",
      "Requirement already satisfied: grpcio>=1.58.0 in /Users/giumast/miniforge3/envs/tensorflow/lib/python3.10/site-packages (from chromadb<0.6.0,>=0.4.0->langchain_chroma) (1.64.0)\n",
      "Requirement already satisfied: kubernetes>=28.1.0 in /Users/giumast/miniforge3/envs/tensorflow/lib/python3.10/site-packages (from chromadb<0.6.0,>=0.4.0->langchain_chroma) (29.0.0)\n",
      "Requirement already satisfied: mmh3>=4.0.1 in /Users/giumast/miniforge3/envs/tensorflow/lib/python3.10/site-packages (from chromadb<0.6.0,>=0.4.0->langchain_chroma) (4.1.0)\n",
      "Requirement already satisfied: orjson>=3.9.12 in /Users/giumast/miniforge3/envs/tensorflow/lib/python3.10/site-packages (from chromadb<0.6.0,>=0.4.0->langchain_chroma) (3.10.3)\n",
      "Requirement already satisfied: opentelemetry-instrumentation-fastapi>=0.41b0 in /Users/giumast/miniforge3/envs/tensorflow/lib/python3.10/site-packages (from chromadb<0.6.0,>=0.4.0->langchain_chroma) (0.45b0)\n",
      "Requirement already satisfied: overrides>=7.3.1 in /Users/giumast/miniforge3/envs/tensorflow/lib/python3.10/site-packages (from chromadb<0.6.0,>=0.4.0->langchain_chroma) (7.7.0)\n",
      "Requirement already satisfied: marshmallow<4.0.0,>=3.18.0 in /Users/giumast/miniforge3/envs/tensorflow/lib/python3.10/site-packages (from dataclasses-json<0.7,>=0.5.7->langchain-community) (3.21.2)\n",
      "Requirement already satisfied: typing-inspect<1,>=0.4.0 in /Users/giumast/miniforge3/envs/tensorflow/lib/python3.10/site-packages (from dataclasses-json<0.7,>=0.5.7->langchain-community) (0.9.0)\n",
      "Requirement already satisfied: ujson!=4.0.2,!=4.1.0,!=4.2.0,!=4.3.0,!=5.0.0,!=5.1.0,>=4.0.1 in /Users/giumast/miniforge3/envs/tensorflow/lib/python3.10/site-packages (from fastapi<1,>=0.95.2->langchain_chroma) (5.10.0)\n",
      "Requirement already satisfied: email_validator>=2.0.0 in /Users/giumast/miniforge3/envs/tensorflow/lib/python3.10/site-packages (from fastapi<1,>=0.95.2->langchain_chroma) (2.1.1)\n",
      "Requirement already satisfied: httpx>=0.23.0 in /Users/giumast/miniforge3/envs/tensorflow/lib/python3.10/site-packages (from fastapi<1,>=0.95.2->langchain_chroma) (0.27.0)\n",
      "Requirement already satisfied: starlette<0.38.0,>=0.37.2 in /Users/giumast/miniforge3/envs/tensorflow/lib/python3.10/site-packages (from fastapi<1,>=0.95.2->langchain_chroma) (0.37.2)\n",
      "Requirement already satisfied: jinja2>=2.11.2 in /Users/giumast/miniforge3/envs/tensorflow/lib/python3.10/site-packages (from fastapi<1,>=0.95.2->langchain_chroma) (3.1.2)\n",
      "Requirement already satisfied: python-multipart>=0.0.7 in /Users/giumast/miniforge3/envs/tensorflow/lib/python3.10/site-packages (from fastapi<1,>=0.95.2->langchain_chroma) (0.0.9)\n",
      "Requirement already satisfied: fastapi-cli>=0.0.2 in /Users/giumast/miniforge3/envs/tensorflow/lib/python3.10/site-packages (from fastapi<1,>=0.95.2->langchain_chroma) (0.0.4)\n"
     ]
    },
    {
     "name": "stdout",
     "output_type": "stream",
     "text": [
      "Requirement already satisfied: langchain-text-splitters<0.3.0,>=0.2.0 in /Users/giumast/miniforge3/envs/tensorflow/lib/python3.10/site-packages (from langchain<0.3.0,>=0.2.0->langchain-community) (0.2.0)\n",
      "Requirement already satisfied: packaging<24.0,>=23.2 in /Users/giumast/miniforge3/envs/tensorflow/lib/python3.10/site-packages (from langchain-core<0.3.0,>=0.2.0->langchain-community) (23.2)\n",
      "Requirement already satisfied: jsonpatch<2.0,>=1.33 in /Users/giumast/miniforge3/envs/tensorflow/lib/python3.10/site-packages (from langchain-core<0.3.0,>=0.2.0->langchain-community) (1.33)\n",
      "Requirement already satisfied: urllib3<1.27,>=1.21.1 in /Users/giumast/miniforge3/envs/tensorflow/lib/python3.10/site-packages (from requests<3,>=2->langchain-community) (1.26.9)\n",
      "Requirement already satisfied: idna<4,>=2.5 in /Users/giumast/miniforge3/envs/tensorflow/lib/python3.10/site-packages (from requests<3,>=2->langchain-community) (3.3)\n",
      "Requirement already satisfied: charset-normalizer<3,>=2 in /Users/giumast/miniforge3/envs/tensorflow/lib/python3.10/site-packages (from requests<3,>=2->langchain-community) (2.1.0)\n",
      "Requirement already satisfied: certifi>=2017.4.17 in /Users/giumast/miniforge3/envs/tensorflow/lib/python3.10/site-packages (from requests<3,>=2->langchain-community) (2022.9.24)\n",
      "  Using cached types_requests-2.31.0.20240406-py3-none-any.whl (15 kB)\n",
      "  Using cached types_requests-2.31.0.20240403-py3-none-any.whl (15 kB)\n",
      "  Using cached types_requests-2.31.0.20240402-py3-none-any.whl (15 kB)\n",
      "  Using cached types_requests-2.31.0.20240311-py3-none-any.whl (14 kB)\n",
      "  Using cached types_requests-2.31.0.20240310-py3-none-any.whl (14 kB)\n",
      "  Using cached types_requests-2.31.0.20240218-py3-none-any.whl (14 kB)\n",
      "  Using cached types_requests-2.31.0.20240125-py3-none-any.whl (14 kB)\n",
      "  Using cached types_requests-2.31.0.20240106-py3-none-any.whl (14 kB)\n",
      "  Using cached types_requests-2.31.0.20231231-py3-none-any.whl (14 kB)\n",
      "  Using cached types_requests-2.31.0.10-py3-none-any.whl (14 kB)\n",
      "  Using cached types_requests-2.31.0.9-py3-none-any.whl (14 kB)\n",
      "  Using cached types_requests-2.31.0.8-py3-none-any.whl (14 kB)\n",
      "  Using cached types_requests-2.31.0.7-py3-none-any.whl (14 kB)\n",
      "  Using cached types_requests-2.31.0.6-py3-none-any.whl (14 kB)\n",
      "Collecting types-urllib3\n",
      "  Using cached types_urllib3-1.26.25.14-py3-none-any.whl (15 kB)\n",
      "Requirement already satisfied: tomli>=1.1.0 in /Users/giumast/miniforge3/envs/tensorflow/lib/python3.10/site-packages (from build>=1.0.3->chromadb<0.6.0,>=0.4.0->langchain_chroma) (2.0.1)\n",
      "Requirement already satisfied: pyproject_hooks in /Users/giumast/miniforge3/envs/tensorflow/lib/python3.10/site-packages (from build>=1.0.3->chromadb<0.6.0,>=0.4.0->langchain_chroma) (1.1.0)\n",
      "Requirement already satisfied: dnspython>=2.0.0 in /Users/giumast/miniforge3/envs/tensorflow/lib/python3.10/site-packages (from email_validator>=2.0.0->fastapi<1,>=0.95.2->langchain_chroma) (2.6.1)\n",
      "Requirement already satisfied: anyio in /Users/giumast/miniforge3/envs/tensorflow/lib/python3.10/site-packages (from httpx>=0.23.0->fastapi<1,>=0.95.2->langchain_chroma) (4.3.0)\n",
      "Requirement already satisfied: httpcore==1.* in /Users/giumast/miniforge3/envs/tensorflow/lib/python3.10/site-packages (from httpx>=0.23.0->fastapi<1,>=0.95.2->langchain_chroma) (1.0.5)\n",
      "Requirement already satisfied: sniffio in /Users/giumast/miniforge3/envs/tensorflow/lib/python3.10/site-packages (from httpx>=0.23.0->fastapi<1,>=0.95.2->langchain_chroma) (1.3.1)\n",
      "Requirement already satisfied: h11<0.15,>=0.13 in /Users/giumast/miniforge3/envs/tensorflow/lib/python3.10/site-packages (from httpcore==1.*->httpx>=0.23.0->fastapi<1,>=0.95.2->langchain_chroma) (0.14.0)\n",
      "Requirement already satisfied: MarkupSafe>=2.0 in /Users/giumast/miniforge3/envs/tensorflow/lib/python3.10/site-packages (from jinja2>=2.11.2->fastapi<1,>=0.95.2->langchain_chroma) (2.1.1)\n",
      "Requirement already satisfied: jsonpointer>=1.9 in /Users/giumast/miniforge3/envs/tensorflow/lib/python3.10/site-packages (from jsonpatch<2.0,>=1.33->langchain-core<0.3.0,>=0.2.0->langchain-community) (2.4)\n",
      "Requirement already satisfied: websocket-client!=0.40.0,!=0.41.*,!=0.42.*,>=0.32.0 in /Users/giumast/miniforge3/envs/tensorflow/lib/python3.10/site-packages (from kubernetes>=28.1.0->chromadb<0.6.0,>=0.4.0->langchain_chroma) (1.5.1)\n",
      "Requirement already satisfied: six>=1.9.0 in /Users/giumast/miniforge3/envs/tensorflow/lib/python3.10/site-packages (from kubernetes>=28.1.0->chromadb<0.6.0,>=0.4.0->langchain_chroma) (1.15.0)\n",
      "Requirement already satisfied: python-dateutil>=2.5.3 in /Users/giumast/miniforge3/envs/tensorflow/lib/python3.10/site-packages (from kubernetes>=28.1.0->chromadb<0.6.0,>=0.4.0->langchain_chroma) (2.8.2)\n",
      "Requirement already satisfied: requests-oauthlib in /Users/giumast/miniforge3/envs/tensorflow/lib/python3.10/site-packages (from kubernetes>=28.1.0->chromadb<0.6.0,>=0.4.0->langchain_chroma) (1.3.1)\n",
      "Requirement already satisfied: google-auth>=1.0.1 in /Users/giumast/miniforge3/envs/tensorflow/lib/python3.10/site-packages (from kubernetes>=28.1.0->chromadb<0.6.0,>=0.4.0->langchain_chroma) (2.9.0)\n",
      "Requirement already satisfied: oauthlib>=3.2.2 in /Users/giumast/miniforge3/envs/tensorflow/lib/python3.10/site-packages (from kubernetes>=28.1.0->chromadb<0.6.0,>=0.4.0->langchain_chroma) (3.2.2)\n",
      "Requirement already satisfied: flatbuffers in /Users/giumast/miniforge3/envs/tensorflow/lib/python3.10/site-packages (from onnxruntime>=1.14.1->chromadb<0.6.0,>=0.4.0->langchain_chroma) (23.3.3)\n",
      "Requirement already satisfied: coloredlogs in /Users/giumast/miniforge3/envs/tensorflow/lib/python3.10/site-packages (from onnxruntime>=1.14.1->chromadb<0.6.0,>=0.4.0->langchain_chroma) (15.0.1)\n",
      "Requirement already satisfied: sympy in /Users/giumast/miniforge3/envs/tensorflow/lib/python3.10/site-packages (from onnxruntime>=1.14.1->chromadb<0.6.0,>=0.4.0->langchain_chroma) (1.11.1)\n",
      "Requirement already satisfied: protobuf in /Users/giumast/miniforge3/envs/tensorflow/lib/python3.10/site-packages (from onnxruntime>=1.14.1->chromadb<0.6.0,>=0.4.0->langchain_chroma) (3.20.3)\n",
      "Requirement already satisfied: deprecated>=1.2.6 in /Users/giumast/miniforge3/envs/tensorflow/lib/python3.10/site-packages (from opentelemetry-api>=1.2.0->chromadb<0.6.0,>=0.4.0->langchain_chroma) (1.2.14)\n",
      "Requirement already satisfied: importlib-metadata<=7.0,>=6.0 in /Users/giumast/miniforge3/envs/tensorflow/lib/python3.10/site-packages (from opentelemetry-api>=1.2.0->chromadb<0.6.0,>=0.4.0->langchain_chroma) (7.0.0)\n",
      "Requirement already satisfied: opentelemetry-exporter-otlp-proto-common==1.24.0 in /Users/giumast/miniforge3/envs/tensorflow/lib/python3.10/site-packages (from opentelemetry-exporter-otlp-proto-grpc>=1.2.0->chromadb<0.6.0,>=0.4.0->langchain_chroma) (1.24.0)\n",
      "Requirement already satisfied: googleapis-common-protos~=1.52 in /Users/giumast/miniforge3/envs/tensorflow/lib/python3.10/site-packages (from opentelemetry-exporter-otlp-proto-grpc>=1.2.0->chromadb<0.6.0,>=0.4.0->langchain_chroma) (1.57.0)\n",
      "Requirement already satisfied: opentelemetry-proto==1.24.0 in /Users/giumast/miniforge3/envs/tensorflow/lib/python3.10/site-packages (from opentelemetry-exporter-otlp-proto-grpc>=1.2.0->chromadb<0.6.0,>=0.4.0->langchain_chroma) (1.24.0)\n",
      "Requirement already satisfied: opentelemetry-semantic-conventions==0.45b0 in /Users/giumast/miniforge3/envs/tensorflow/lib/python3.10/site-packages (from opentelemetry-instrumentation-fastapi>=0.41b0->chromadb<0.6.0,>=0.4.0->langchain_chroma) (0.45b0)\n",
      "Requirement already satisfied: opentelemetry-util-http==0.45b0 in /Users/giumast/miniforge3/envs/tensorflow/lib/python3.10/site-packages (from opentelemetry-instrumentation-fastapi>=0.41b0->chromadb<0.6.0,>=0.4.0->langchain_chroma) (0.45b0)\n",
      "Requirement already satisfied: opentelemetry-instrumentation==0.45b0 in /Users/giumast/miniforge3/envs/tensorflow/lib/python3.10/site-packages (from opentelemetry-instrumentation-fastapi>=0.41b0->chromadb<0.6.0,>=0.4.0->langchain_chroma) (0.45b0)\n",
      "Requirement already satisfied: opentelemetry-instrumentation-asgi==0.45b0 in /Users/giumast/miniforge3/envs/tensorflow/lib/python3.10/site-packages (from opentelemetry-instrumentation-fastapi>=0.41b0->chromadb<0.6.0,>=0.4.0->langchain_chroma) (0.45b0)\n",
      "Requirement already satisfied: setuptools>=16.0 in /Users/giumast/miniforge3/envs/tensorflow/lib/python3.10/site-packages (from opentelemetry-instrumentation==0.45b0->opentelemetry-instrumentation-fastapi>=0.41b0->chromadb<0.6.0,>=0.4.0->langchain_chroma) (63.1.0)\n",
      "Requirement already satisfied: wrapt<2.0.0,>=1.0.0 in /Users/giumast/miniforge3/envs/tensorflow/lib/python3.10/site-packages (from opentelemetry-instrumentation==0.45b0->opentelemetry-instrumentation-fastapi>=0.41b0->chromadb<0.6.0,>=0.4.0->langchain_chroma) (1.14.1)\n",
      "Requirement already satisfied: asgiref~=3.0 in /Users/giumast/miniforge3/envs/tensorflow/lib/python3.10/site-packages (from opentelemetry-instrumentation-asgi==0.45b0->opentelemetry-instrumentation-fastapi>=0.41b0->chromadb<0.6.0,>=0.4.0->langchain_chroma) (3.8.1)\n"
     ]
    },
    {
     "name": "stdout",
     "output_type": "stream",
     "text": [
      "Requirement already satisfied: backoff>=1.10.0 in /Users/giumast/miniforge3/envs/tensorflow/lib/python3.10/site-packages (from posthog>=2.4.0->chromadb<0.6.0,>=0.4.0->langchain_chroma) (2.2.1)\n",
      "Requirement already satisfied: monotonic>=1.5 in /Users/giumast/miniforge3/envs/tensorflow/lib/python3.10/site-packages (from posthog>=2.4.0->chromadb<0.6.0,>=0.4.0->langchain_chroma) (1.6)\n",
      "Requirement already satisfied: pydantic-core==2.14.6 in /Users/giumast/miniforge3/envs/tensorflow/lib/python3.10/site-packages (from pydantic>=1.9->chromadb<0.6.0,>=0.4.0->langchain_chroma) (2.14.6)\n",
      "Requirement already satisfied: annotated-types>=0.4.0 in /Users/giumast/miniforge3/envs/tensorflow/lib/python3.10/site-packages (from pydantic>=1.9->chromadb<0.6.0,>=0.4.0->langchain_chroma) (0.6.0)\n",
      "Requirement already satisfied: huggingface-hub<1.0,>=0.16.4 in /Users/giumast/miniforge3/envs/tensorflow/lib/python3.10/site-packages (from tokenizers>=0.13.2->chromadb<0.6.0,>=0.4.0->langchain_chroma) (0.23.1)\n",
      "Requirement already satisfied: click>=8.0.0 in /Users/giumast/miniforge3/envs/tensorflow/lib/python3.10/site-packages (from typer>=0.9.0->chromadb<0.6.0,>=0.4.0->langchain_chroma) (8.1.3)\n",
      "Requirement already satisfied: shellingham>=1.3.0 in /Users/giumast/miniforge3/envs/tensorflow/lib/python3.10/site-packages (from typer>=0.9.0->chromadb<0.6.0,>=0.4.0->langchain_chroma) (1.5.4)\n",
      "Requirement already satisfied: rich>=10.11.0 in /Users/giumast/miniforge3/envs/tensorflow/lib/python3.10/site-packages (from typer>=0.9.0->chromadb<0.6.0,>=0.4.0->langchain_chroma) (13.7.1)\n",
      "Requirement already satisfied: mypy-extensions>=0.3.0 in /Users/giumast/miniforge3/envs/tensorflow/lib/python3.10/site-packages (from typing-inspect<1,>=0.4.0->dataclasses-json<0.7,>=0.5.7->langchain-community) (1.0.0)\n",
      "Requirement already satisfied: uvloop!=0.15.0,!=0.15.1,>=0.14.0 in /Users/giumast/miniforge3/envs/tensorflow/lib/python3.10/site-packages (from uvicorn[standard]>=0.18.3->chromadb<0.6.0,>=0.4.0->langchain_chroma) (0.19.0)\n",
      "Requirement already satisfied: python-dotenv>=0.13 in /Users/giumast/miniforge3/envs/tensorflow/lib/python3.10/site-packages (from uvicorn[standard]>=0.18.3->chromadb<0.6.0,>=0.4.0->langchain_chroma) (1.0.1)\n",
      "Requirement already satisfied: httptools>=0.5.0 in /Users/giumast/miniforge3/envs/tensorflow/lib/python3.10/site-packages (from uvicorn[standard]>=0.18.3->chromadb<0.6.0,>=0.4.0->langchain_chroma) (0.6.1)\n",
      "Requirement already satisfied: websockets>=10.4 in /Users/giumast/miniforge3/envs/tensorflow/lib/python3.10/site-packages (from uvicorn[standard]>=0.18.3->chromadb<0.6.0,>=0.4.0->langchain_chroma) (10.4)\n",
      "Requirement already satisfied: watchfiles>=0.13 in /Users/giumast/miniforge3/envs/tensorflow/lib/python3.10/site-packages (from uvicorn[standard]>=0.18.3->chromadb<0.6.0,>=0.4.0->langchain_chroma) (0.21.0)\n",
      "Requirement already satisfied: exceptiongroup>=1.0.2 in /Users/giumast/miniforge3/envs/tensorflow/lib/python3.10/site-packages (from anyio->httpx>=0.23.0->fastapi<1,>=0.95.2->langchain_chroma) (1.2.1)\n",
      "Requirement already satisfied: rsa<5,>=3.1.4 in /Users/giumast/miniforge3/envs/tensorflow/lib/python3.10/site-packages (from google-auth>=1.0.1->kubernetes>=28.1.0->chromadb<0.6.0,>=0.4.0->langchain_chroma) (4.8)\n",
      "Requirement already satisfied: pyasn1-modules>=0.2.1 in /Users/giumast/miniforge3/envs/tensorflow/lib/python3.10/site-packages (from google-auth>=1.0.1->kubernetes>=28.1.0->chromadb<0.6.0,>=0.4.0->langchain_chroma) (0.2.8)\n",
      "Requirement already satisfied: cachetools<6.0,>=2.0.0 in /Users/giumast/miniforge3/envs/tensorflow/lib/python3.10/site-packages (from google-auth>=1.0.1->kubernetes>=28.1.0->chromadb<0.6.0,>=0.4.0->langchain_chroma) (5.2.0)\n",
      "Requirement already satisfied: fsspec>=2023.5.0 in /Users/giumast/miniforge3/envs/tensorflow/lib/python3.10/site-packages (from huggingface-hub<1.0,>=0.16.4->tokenizers>=0.13.2->chromadb<0.6.0,>=0.4.0->langchain_chroma) (2024.5.0)\n",
      "Requirement already satisfied: filelock in /Users/giumast/miniforge3/envs/tensorflow/lib/python3.10/site-packages (from huggingface-hub<1.0,>=0.16.4->tokenizers>=0.13.2->chromadb<0.6.0,>=0.4.0->langchain_chroma) (3.14.0)\n",
      "Requirement already satisfied: zipp>=0.5 in /Users/giumast/miniforge3/envs/tensorflow/lib/python3.10/site-packages (from importlib-metadata<=7.0,>=6.0->opentelemetry-api>=1.2.0->chromadb<0.6.0,>=0.4.0->langchain_chroma) (3.8.0)\n",
      "Requirement already satisfied: markdown-it-py>=2.2.0 in /Users/giumast/miniforge3/envs/tensorflow/lib/python3.10/site-packages (from rich>=10.11.0->typer>=0.9.0->chromadb<0.6.0,>=0.4.0->langchain_chroma) (3.0.0)\n",
      "Requirement already satisfied: pygments<3.0.0,>=2.13.0 in /Users/giumast/miniforge3/envs/tensorflow/lib/python3.10/site-packages (from rich>=10.11.0->typer>=0.9.0->chromadb<0.6.0,>=0.4.0->langchain_chroma) (2.18.0)\n",
      "Requirement already satisfied: humanfriendly>=9.1 in /Users/giumast/miniforge3/envs/tensorflow/lib/python3.10/site-packages (from coloredlogs->onnxruntime>=1.14.1->chromadb<0.6.0,>=0.4.0->langchain_chroma) (10.0)\n",
      "Requirement already satisfied: mpmath>=0.19 in /Users/giumast/miniforge3/envs/tensorflow/lib/python3.10/site-packages (from sympy->onnxruntime>=1.14.1->chromadb<0.6.0,>=0.4.0->langchain_chroma) (1.3.0)\n",
      "Requirement already satisfied: mdurl~=0.1 in /Users/giumast/miniforge3/envs/tensorflow/lib/python3.10/site-packages (from markdown-it-py>=2.2.0->rich>=10.11.0->typer>=0.9.0->chromadb<0.6.0,>=0.4.0->langchain_chroma) (0.1.2)\n",
      "Requirement already satisfied: pyasn1<0.5.0,>=0.4.6 in /Users/giumast/miniforge3/envs/tensorflow/lib/python3.10/site-packages (from pyasn1-modules>=0.2.1->google-auth>=1.0.1->kubernetes>=28.1.0->chromadb<0.6.0,>=0.4.0->langchain_chroma) (0.4.8)\n",
      "Installing collected packages: types-urllib3, types-requests, langchainhub\n",
      "Successfully installed langchainhub-0.1.15 types-requests-2.31.0.6 types-urllib3-1.26.25.14\n",
      "Note: you may need to restart the kernel to use updated packages.\n"
     ]
    }
   ],
   "source": [
    "%pip install langchain-community langchain_chroma langchainhub"
   ]
  },
  {
   "cell_type": "code",
   "execution_count": 5,
   "id": "acee451e",
   "metadata": {},
   "outputs": [],
   "source": [
    "import os\n",
    "from langchain_openai import ChatOpenAI\n",
    "from langchain.document_loaders import TextLoader\n",
    "from langchain import hub\n",
    "from langchain_chroma import Chroma\n",
    "from langchain_core.output_parsers import StrOutputParser\n",
    "from langchain_core.runnables import RunnablePassthrough\n",
    "from langchain_openai import OpenAIEmbeddings\n",
    "from langchain.text_splitter import RecursiveCharacterTextSplitter"
   ]
  },
  {
   "cell_type": "markdown",
   "id": "86e94cf4",
   "metadata": {},
   "source": [
    "## RAG: what is it?\n",
    "\n",
    "One of the **limits** of the LLMs is that **they have a knowledge cutoff**. This means that these models can only provide information and answer questions based on the data they were trained on, up to a certain date. After this cutoff, they cannot update their knowledge without further training or integration with up-to-date data sources.\n",
    "\n",
    "### Introducing RAG: Retrieval-Augmented Generation\n",
    "\n",
    "To address this limitation, a method known as Retrieval-Augmented Generation (RAG) has been developed. RAG is a technique that combines the power of language models with external information retrieval systems. This allows the model to access a broader range of up-to-date information during its operations.\n",
    "\n",
    "#### How RAG Works\n",
    "\n",
    "1. **Retrieval Step**: When a question or a prompt is given to a RAG system, it first retrieves relevant documents or data snippets from a large external database. This database can be continuously updated with new information, allowing the RAG system to access current data.\n",
    "\n",
    "2. **Generation Step**: The retrieved information is then fed into a language model, such as a transformer-based LLM. The model uses both its pre-trained knowledge and the newly retrieved information to generate a response that is informed and up-to-date.\n",
    "\n",
    "#### Retrieval step\n",
    "\n",
    "Here's a breakdown of the retrieval step: \n",
    "\n",
    "- **Load**: Data, such as text files (JSON, URLs, etc.), is loaded into the system.\n",
    "- **Split**: The loaded data is then split into manageable pieces or segments that are easier to process.\n",
    "- **Embed**: Each piece of data is transformed into a numerical format, known as embeddings, which represent the semantic content of the data.\n",
    "- **Store**: These embeddings are stored in a structured format, enabling the system to efficiently search and retrieve relevant information based on the query.\n",
    "\n",
    "<img src=\"assets/rag-architecture.png\" />\n"
   ]
  },
  {
   "cell_type": "code",
   "execution_count": 17,
   "id": "cc1636ce",
   "metadata": {},
   "outputs": [
    {
     "data": {
      "text/plain": [
       "[Document(page_content=\"At the clothing store\\n\\nSalesperson - Good morning, can I help you?\\nCustomer - Yes, thank you. I saw a pair of black trousers in the window, can I try them on?\\nSalesperson - Of course, what size?\\nCustomer - I wear a size 50.\\nSalesperson - Here they are!\\nCustomer - Where are the fitting rooms?\\nSalesperson - The fitting rooms are down there on the right, next to the stairs.\\nCustomer - Perfect, thank you.\\n\\nSalesperson - How are they?\\nCustomer - I like the style, but they're a bit tight. Can I try a larger size?\\nSalesperson - Oh, I'm sorry, we're out of size 52 in this color, would you like to try the same model in brown?\\nCustomer - No, thank you, I really don't like brown. Don't you have other colors in this size?\\nSalesperson - Well, in size 52 we have brown, red, and gray.\\nCustomer - Alright, I'll try them in gray, let's see how they fit.\\n\\nCustomer - I tried on the trousers, they are really nice in gray and the size is perfect! How much are they?\\nSalesperson - They cost €85.\\nCustomer - Aren't they on sale?\\nSalesperson - Ah, no, I'm sorry, the sales are only on winter merchandise. These trousers are from the new summer collection.\\nCustomer - That's a shame, they seem a bit expensive.\\nSalesperson - Look, it's 100% cotton, the quality of the material is excellent!\\nCustomer - Can I pay with a credit card?\\nSalesperson - Of course, there are no problems, you can pay by card or cash.\\nCustomer - Okay, then I'll take them, thank you very much for your help.\", metadata={'source': 'data/dialog.txt'})]"
      ]
     },
     "execution_count": 17,
     "metadata": {},
     "output_type": "execute_result"
    }
   ],
   "source": [
    "loader = TextLoader('data/dialog.txt')\n",
    "documents = loader.load()\n",
    "\n",
    "documents"
   ]
  },
  {
   "cell_type": "code",
   "execution_count": 18,
   "id": "6472a48e",
   "metadata": {},
   "outputs": [],
   "source": [
    "llm = ChatOpenAI(\n",
    "    model=\"gpt-3.5-turbo-0125\", \n",
    "    openai_api_key=\"\"\n",
    ")"
   ]
  },
  {
   "cell_type": "markdown",
   "id": "4dd7dc57",
   "metadata": {},
   "source": [
    "## Recursive Splitting with overlap\n",
    "\n",
    "TBD"
   ]
  },
  {
   "cell_type": "code",
   "execution_count": 22,
   "id": "7a328bb9",
   "metadata": {},
   "outputs": [
    {
     "data": {
      "text/plain": [
       "[Document(page_content='At the clothing store', metadata={'source': 'data/dialog.txt'}),\n",
       " Document(page_content='Salesperson - Good morning, can I help you?', metadata={'source': 'data/dialog.txt'}),\n",
       " Document(page_content='Customer - Yes, thank you. I saw a pair of black', metadata={'source': 'data/dialog.txt'}),\n",
       " Document(page_content='of black trousers in the window, can I try them', metadata={'source': 'data/dialog.txt'}),\n",
       " Document(page_content='try them on?', metadata={'source': 'data/dialog.txt'}),\n",
       " Document(page_content='Salesperson - Of course, what size?', metadata={'source': 'data/dialog.txt'}),\n",
       " Document(page_content='Customer - I wear a size 50.', metadata={'source': 'data/dialog.txt'}),\n",
       " Document(page_content='Salesperson - Here they are!', metadata={'source': 'data/dialog.txt'}),\n",
       " Document(page_content='Customer - Where are the fitting rooms?', metadata={'source': 'data/dialog.txt'}),\n",
       " Document(page_content='Salesperson - The fitting rooms are down there on', metadata={'source': 'data/dialog.txt'}),\n",
       " Document(page_content='there on the right, next to the stairs.', metadata={'source': 'data/dialog.txt'}),\n",
       " Document(page_content='Customer - Perfect, thank you.', metadata={'source': 'data/dialog.txt'}),\n",
       " Document(page_content='Salesperson - How are they?', metadata={'source': 'data/dialog.txt'}),\n",
       " Document(page_content=\"Customer - I like the style, but they're a bit\", metadata={'source': 'data/dialog.txt'}),\n",
       " Document(page_content='a bit tight. Can I try a larger size?', metadata={'source': 'data/dialog.txt'}),\n",
       " Document(page_content=\"Salesperson - Oh, I'm sorry, we're out of size 52\", metadata={'source': 'data/dialog.txt'}),\n",
       " Document(page_content='size 52 in this color, would you like to try the', metadata={'source': 'data/dialog.txt'}),\n",
       " Document(page_content='try the same model in brown?', metadata={'source': 'data/dialog.txt'}),\n",
       " Document(page_content=\"Customer - No, thank you, I really don't like\", metadata={'source': 'data/dialog.txt'}),\n",
       " Document(page_content=\"like brown. Don't you have other colors in this\", metadata={'source': 'data/dialog.txt'}),\n",
       " Document(page_content='in this size?', metadata={'source': 'data/dialog.txt'}),\n",
       " Document(page_content='Salesperson - Well, in size 52 we have brown,', metadata={'source': 'data/dialog.txt'}),\n",
       " Document(page_content='brown, red, and gray.', metadata={'source': 'data/dialog.txt'}),\n",
       " Document(page_content=\"Customer - Alright, I'll try them in gray, let's\", metadata={'source': 'data/dialog.txt'}),\n",
       " Document(page_content=\"let's see how they fit.\", metadata={'source': 'data/dialog.txt'}),\n",
       " Document(page_content='Customer - I tried on the trousers, they are', metadata={'source': 'data/dialog.txt'}),\n",
       " Document(page_content='they are really nice in gray and the size is', metadata={'source': 'data/dialog.txt'}),\n",
       " Document(page_content='size is perfect! How much are they?', metadata={'source': 'data/dialog.txt'}),\n",
       " Document(page_content='Salesperson - They cost €85.', metadata={'source': 'data/dialog.txt'}),\n",
       " Document(page_content=\"Customer - Aren't they on sale?\", metadata={'source': 'data/dialog.txt'}),\n",
       " Document(page_content=\"Salesperson - Ah, no, I'm sorry, the sales are\", metadata={'source': 'data/dialog.txt'}),\n",
       " Document(page_content='sales are only on winter merchandise. These', metadata={'source': 'data/dialog.txt'}),\n",
       " Document(page_content='These trousers are from the new summer', metadata={'source': 'data/dialog.txt'}),\n",
       " Document(page_content='summer collection.', metadata={'source': 'data/dialog.txt'}),\n",
       " Document(page_content=\"Customer - That's a shame, they seem a bit\", metadata={'source': 'data/dialog.txt'}),\n",
       " Document(page_content='a bit expensive.', metadata={'source': 'data/dialog.txt'}),\n",
       " Document(page_content=\"Salesperson - Look, it's 100% cotton, the quality\", metadata={'source': 'data/dialog.txt'}),\n",
       " Document(page_content='quality of the material is excellent!', metadata={'source': 'data/dialog.txt'}),\n",
       " Document(page_content='Customer - Can I pay with a credit card?', metadata={'source': 'data/dialog.txt'}),\n",
       " Document(page_content='Salesperson - Of course, there are no problems,', metadata={'source': 'data/dialog.txt'}),\n",
       " Document(page_content='problems, you can pay by card or cash.', metadata={'source': 'data/dialog.txt'}),\n",
       " Document(page_content=\"Customer - Okay, then I'll take them, thank you\", metadata={'source': 'data/dialog.txt'}),\n",
       " Document(page_content='thank you very much for your help.', metadata={'source': 'data/dialog.txt'})]"
      ]
     },
     "execution_count": 22,
     "metadata": {},
     "output_type": "execute_result"
    }
   ],
   "source": [
    "text_splitter = RecursiveCharacterTextSplitter(\n",
    "    chunk_size=50, # use 200\n",
    "    chunk_overlap=10 # use 33\n",
    ")\n",
    "\n",
    "splits = text_splitter.split_documents(documents)\n",
    "\n",
    "splits"
   ]
  },
  {
   "cell_type": "markdown",
   "id": "d9a729bc",
   "metadata": {},
   "source": [
    "## Vectorization\n",
    "\n",
    "TBD"
   ]
  },
  {
   "cell_type": "code",
   "execution_count": 24,
   "id": "ac0b0c9f",
   "metadata": {},
   "outputs": [],
   "source": [
    "vectorstore = Chroma.from_documents(\n",
    "    documents=splits, \n",
    "    embedding=OpenAIEmbeddings(openai_api_key=\"\")\n",
    ")"
   ]
  },
  {
   "cell_type": "code",
   "execution_count": 25,
   "id": "cb34bc51",
   "metadata": {},
   "outputs": [
    {
     "data": {
      "text/plain": [
       "<langchain_chroma.vectorstores.Chroma at 0x119090310>"
      ]
     },
     "execution_count": 25,
     "metadata": {},
     "output_type": "execute_result"
    }
   ],
   "source": [
    "vectorstore"
   ]
  },
  {
   "cell_type": "code",
   "execution_count": 28,
   "id": "b4dd02c1",
   "metadata": {},
   "outputs": [
    {
     "data": {
      "text/plain": [
       "OpenAIEmbeddings(client=<openai.resources.embeddings.Embeddings object at 0x109d9ca90>, async_client=<openai.resources.embeddings.AsyncEmbeddings object at 0x119091fc0>, model='text-embedding-ada-002', dimensions=None, deployment='text-embedding-ada-002', openai_api_version='', openai_api_base=None, openai_api_type='', openai_proxy='', embedding_ctx_length=8191, openai_api_key=SecretStr('**********'), openai_organization=None, allowed_special=None, disallowed_special=None, chunk_size=1000, max_retries=2, request_timeout=None, headers=None, tiktoken_enabled=True, tiktoken_model_name=None, show_progress_bar=False, model_kwargs={}, skip_empty=False, default_headers=None, default_query=None, retry_min_seconds=4, retry_max_seconds=20, http_client=None, http_async_client=None, check_embedding_ctx_length=True)"
      ]
     },
     "execution_count": 28,
     "metadata": {},
     "output_type": "execute_result"
    }
   ],
   "source": [
    "vectorstore.embeddings"
   ]
  },
  {
   "cell_type": "code",
   "execution_count": 31,
   "id": "d20c20f1",
   "metadata": {},
   "outputs": [],
   "source": [
    "retriever = vectorstore.as_retriever()\n",
    "prompt = hub.pull(\"rlm/rag-prompt\")"
   ]
  },
  {
   "cell_type": "code",
   "execution_count": 32,
   "id": "f2485a8f",
   "metadata": {},
   "outputs": [
    {
     "data": {
      "text/plain": [
       "ChatPromptTemplate(input_variables=['context', 'question'], metadata={'lc_hub_owner': 'rlm', 'lc_hub_repo': 'rag-prompt', 'lc_hub_commit_hash': '50442af133e61576e74536c6556cefe1fac147cad032f4377b60c436e6cdcb6e'}, messages=[HumanMessagePromptTemplate(prompt=PromptTemplate(input_variables=['context', 'question'], template=\"You are an assistant for question-answering tasks. Use the following pieces of retrieved context to answer the question. If you don't know the answer, just say that you don't know. Use three sentences maximum and keep the answer concise.\\nQuestion: {question} \\nContext: {context} \\nAnswer:\"))])"
      ]
     },
     "execution_count": 32,
     "metadata": {},
     "output_type": "execute_result"
    }
   ],
   "source": [
    "prompt"
   ]
  },
  {
   "cell_type": "code",
   "execution_count": 35,
   "id": "71db282c",
   "metadata": {},
   "outputs": [],
   "source": [
    "def format_docs(docs):\n",
    "    return \"\\n\\n\".join(doc.page_content for doc in docs)\n",
    "\n",
    "\n",
    "rag_chain = (\n",
    "    {\"context\": retriever | format_docs, \"question\": RunnablePassthrough()}\n",
    "    | prompt\n",
    "    | llm\n",
    "    | StrOutputParser()\n",
    ")"
   ]
  },
  {
   "cell_type": "code",
   "execution_count": 38,
   "id": "9c0682dc",
   "metadata": {},
   "outputs": [
    {
     "data": {
      "text/plain": [
       "'The size of the customer is 50.'"
      ]
     },
     "execution_count": 38,
     "metadata": {},
     "output_type": "execute_result"
    }
   ],
   "source": [
    "rag_chain.invoke(\"what is the size of the customer?\")"
   ]
  },
  {
   "cell_type": "code",
   "execution_count": 39,
   "id": "a734cb68",
   "metadata": {},
   "outputs": [
    {
     "data": {
      "text/plain": [
       "'The customer bought items that were on sale and paid for them with a credit card.'"
      ]
     },
     "execution_count": 39,
     "metadata": {},
     "output_type": "execute_result"
    }
   ],
   "source": [
    "rag_chain.invoke(\"what did the customer buy?\")"
   ]
  },
  {
   "cell_type": "code",
   "execution_count": null,
   "id": "40860e57",
   "metadata": {},
   "outputs": [],
   "source": []
  }
 ],
 "metadata": {
  "kernelspec": {
   "display_name": "Python 3 (ipykernel)",
   "language": "python",
   "name": "python3"
  },
  "language_info": {
   "codemirror_mode": {
    "name": "ipython",
    "version": 3
   },
   "file_extension": ".py",
   "mimetype": "text/x-python",
   "name": "python",
   "nbconvert_exporter": "python",
   "pygments_lexer": "ipython3",
   "version": "3.10.0"
  }
 },
 "nbformat": 4,
 "nbformat_minor": 5
}
