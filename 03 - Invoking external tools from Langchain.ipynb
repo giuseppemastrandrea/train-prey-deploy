{
 "cells": [
  {
   "cell_type": "code",
   "execution_count": 1,
   "id": "8227539e",
   "metadata": {},
   "outputs": [],
   "source": [
    "import pickle\n",
    "import numpy as np\n",
    "import pandas as pd\n",
    "from langchain_core.tools import tool\n",
    "from keras.saving import load_model\n",
    "from pydantic import BaseModel, Field, validator\n",
    "from langchain_core.messages import HumanMessage\n",
    "\n",
    "from langchain_core.runnables.graph import MermaidDrawMethod\n",
    "from IPython.display import display, Image\n"
   ]
  },
  {
   "cell_type": "markdown",
   "id": "10a67669-4386-4f6f-b719-a7f9a3fce6ad",
   "metadata": {},
   "source": [
    "### Funzione di Predizione del Rischio di Ictus e Modello ML\n",
    "In questa cella, viene creata una funzione `get_stroke_risk` che utilizza un modello di machine learning per prevedere il rischio di ictus basandosi su dati personali e di salute. La funzione accetta un insieme di variabili (come età, sesso, livello di glucosio medio, BMI, ecc.) e restituisce una predizione binaria (0 o 1) sul rischio di ictus.\n",
    "\n",
    "<a href=\"https://python.langchain.com/v0.2/api_reference/core/tools/langchain_core.tools.convert.tool.html#tool\">tool documentation</a>\n",
    "\n",
    "#### Dettagli del Codice:\n",
    "- **Modello Pydantic**: La classe `DataRow` definisce i campi di input con descrizioni dettagliate per assicurare che i dati siano strutturati correttamente.\n",
    "- **Funzione Decorata con `@tool`**: La funzione `get_stroke_risk` è decorata con `@tool` per poter essere usata come strumento all'interno di un flusso LangChain.\n",
    "- **Caricamento del Modello**: Il modello di rete neurale addestrato viene caricato con `load_model` dalla cartella `model`.\n",
    "- **Predizione**: I dati di input vengono trasformati in un array `tensor` e passati al modello per ottenere la predizione, che è poi confrontata con una soglia (0.4) per generare l'output binario.\n",
    "\n",
    "### Assignment per i Corsisti\n",
    "- Analizza la funzione `get_stroke_risk` per comprendere come vengono utilizzati i dati di input per generare una predizione.\n",
    "- Scrivi il codice per testare la funzione con input diversi e osserva come cambia l'output.\n",
    "- Come esercizio, prova a modificare la soglia di classificazione e analizza come questa modifica influisce sulla sensibilità delle predizioni.\n"
   ]
  },
  {
   "cell_type": "code",
   "execution_count": 2,
   "id": "f8a60825-ba32-4d80-b160-1478b9b5d0aa",
   "metadata": {},
   "outputs": [],
   "source": [
    "class DataRow(BaseModel):\n",
    "    age: int                                 = Field(description=\"Your age in years\")\n",
    "    gender_Male: bool                        = Field(description=\"1 if you're a male, 0 otherwise\")\n",
    "    gender_Female: bool                      = Field(description=\"1 if you're a female, 0 otherwise\")\n",
    "    gender_Other: bool                       = Field(description=\"1 if you're not male nor female, 0 otherwise\")\n",
    "    hypertension: int                        = Field(description=\"Do you have hypertension? (0, 1)\")\n",
    "    heart_disease: int                       = Field(description=\"Do you have any heart disease? (0, 1)\")\n",
    "    avg_glucose_level: float                 = Field(description=\"Your average glucose level in mg/dL\")\n",
    "    bmi: int                                 = Field(description=\"Your Body Mass Index (BMI)\")\n",
    "    ever_married_No: bool                    = Field(description=\"0 if you've ever been married\")\n",
    "    ever_married_Yes: bool                   = Field(description=\"1 if you've ever been married\")\n",
    "    work_type_Govt_job: bool                 = Field(description=\"1 if you have a govt_job, 0 otherwise\")\n",
    "    work_type_Never_worked: bool             = Field(description=\"1 if you never worked, 0 otherwise\")\n",
    "    work_type_Private: bool                  = Field(description=\"1 if you have a private job, 0 otherwise\")\n",
    "    work_type_Self_employed: bool            = Field(description=\"1 if you have a self employed job, 0 otherwise\")\n",
    "    work_type_children: bool                 = Field(description=\"1 if you are a child, 0 otherwise\")\n",
    "    Residence_type_Rural: bool               = Field(description=\"1 if you live in a rural residence, 0 otherwise\")\n",
    "    Residence_type_Urban: bool               = Field(description=\"1 if you live in a urban residence, 0 otherwise\")\n",
    "    smoking_status_Unknown: bool             = Field(description=\"1 if your smoking status is unknown, 0 otherwise\")\n",
    "    smoking_status_formerly_smoked: bool     = Field(description=\"1 if you don't smoke anymore, 0 otherwise\")\n",
    "    smoking_status_never_smoked: bool        = Field(description=\"1 if you never smoked, 0 otherwise\")\n",
    "    smoking_status_smokes: bool              = Field(description=\"1 if you smoke, 0 otherwise\")\n",
    "\n",
    "@tool\n",
    "def get_weather(location: str):\n",
    "    \"\"\"Returns the current weather for the given location.\"\"\"\n",
    "    if location.lower() in [\"sf\", \"san francisco\"]:\n",
    "        return \"It's 60 degrees and foggy.\"\n",
    "    else:\n",
    "        return \"It's 90 degrees and sunny.\"\n",
    "\n",
    "# @tool(\"get_stroke_risk\", args_schema=DataRow, return_direct=True)\n",
    "@tool(\"get_stroke_risk\", return_direct=True)\n",
    "def get_stroke_risk(\n",
    "    age: int,\n",
    "    gender_Male: bool,\n",
    "    gender_Female: bool,\n",
    "    gender_Other: bool,\n",
    "    hypertension: int,\n",
    "    heart_disease: int,\n",
    "    avg_glucose_level: float,\n",
    "    bmi: int,\n",
    "    ever_married_No: bool,\n",
    "    ever_married_Yes: bool,\n",
    "    work_type_Govt_job: bool,\n",
    "    work_type_Never_worked: bool,\n",
    "    work_type_Private: bool,\n",
    "    work_type_Self_employed: bool,\n",
    "    work_type_children: bool,\n",
    "    Residence_type_Rural: bool,\n",
    "    Residence_type_Urban: bool,\n",
    "    smoking_status_Unknown: bool,\n",
    "    smoking_status_formerly_smoked: bool,\n",
    "    smoking_status_never_smoked: bool,\n",
    "    smoking_status_smokes: bool,\n",
    "):\n",
    "    \"\"\"Loads a ML model and makes a prediction\"\"\"\n",
    "    model = load_model(\"model/model.keras\")\n",
    "    print(age)\n",
    "    tensor = np.array([\n",
    "        age,\n",
    "        gender_Male,\n",
    "        gender_Female,\n",
    "        gender_Other,\n",
    "        hypertension,\n",
    "        heart_disease,\n",
    "        avg_glucose_level,\n",
    "        bmi,\n",
    "        ever_married_No,\n",
    "        ever_married_Yes,\n",
    "        work_type_Govt_job,\n",
    "        work_type_Never_worked,\n",
    "        work_type_Private,\n",
    "        work_type_Self_employed,\n",
    "        work_type_children,\n",
    "        Residence_type_Rural,\n",
    "        Residence_type_Urban,\n",
    "        smoking_status_Unknown,\n",
    "        smoking_status_formerly_smoked,\n",
    "        smoking_status_never_smoked,\n",
    "        smoking_status_smokes\n",
    "    ])\n",
    "    tensor = np.array([[54, 1, 0, 0, 1, 1, 135.4, 28, 0, 1, 1, 0, 0, 0, 0, 0, 1, 0, 0, 1, 0]])\n",
    "    return (model.predict(tensor) > 0.4).astype(int)"
   ]
  },
  {
   "cell_type": "code",
   "execution_count": 3,
   "id": "ed5caa22-17b1-4564-b762-3aef525e2733",
   "metadata": {},
   "outputs": [
    {
     "name": "stdout",
     "output_type": "stream",
     "text": [
      "54\n",
      "\u001b[1m1/1\u001b[0m \u001b[32m━━━━━━━━━━━━━━━━━━━━\u001b[0m\u001b[37m\u001b[0m \u001b[1m0s\u001b[0m 18ms/step\n"
     ]
    },
    {
     "data": {
      "text/plain": [
       "array([[0]])"
      ]
     },
     "execution_count": 3,
     "metadata": {},
     "output_type": "execute_result"
    }
   ],
   "source": [
    "# Invochiamo il tool\n",
    "\n",
    "get_stroke_risk.invoke({\n",
    "    \"age\": 54,\n",
    "    \"gender_Male\": 1,\n",
    "    \"gender_Female\": 0,\n",
    "    \"gender_Other\": 0,\n",
    "    \"hypertension\": 1,\n",
    "    \"heart_disease\": 1,\n",
    "    \"avg_glucose_level\": 135.4,\n",
    "    \"bmi\": 28,\n",
    "    \"ever_married_No\": 0,\n",
    "    \"ever_married_Yes\": 1,\n",
    "    \"work_type_Govt_job\": 1,\n",
    "    \"work_type_Never_worked\": 0,\n",
    "    \"work_type_Private\": 0,\n",
    "    \"work_type_Self_employed\": 0,\n",
    "    \"work_type_children\": 0,\n",
    "    \"Residence_type_Rural\": 0,\n",
    "    \"Residence_type_Urban\": 1,\n",
    "    \"smoking_status_Unknown\": 0,\n",
    "    \"smoking_status_formerly_smoked\": 0,\n",
    "    \"smoking_status_never_smoked\": 1,\n",
    "    \"smoking_status_smokes\": 0\n",
    "})"
   ]
  },
  {
   "cell_type": "markdown",
   "id": "752cab20-bf96-4e6d-a401-a0eba02cd4bc",
   "metadata": {},
   "source": [
    "### Integrazione degli Strumenti con ToolNode\n",
    "Questa cella crea un nodo `ToolNode` utilizzando strumenti predefiniti per costruire un flusso di lavoro in LangGraph. Gli strumenti `get_weather` e `get_stroke_risk`, definiti in precedenza, vengono inseriti in un'istanza di `ToolNode`, rendendoli utilizzabili all'interno di un flusso complesso.\n",
    "\n",
    "#### Dettagli del Codice:\n",
    "- **`ToolNode`**: Un oggetto di LangGraph che permette di collegare e gestire strumenti all'interno di un flusso di esecuzione.\n",
    "- **Lista di Strumenti**: La variabile `tools` contiene una lista degli strumenti definiti (`get_weather` e `get_stroke_risk`), che vengono passati a `ToolNode` per essere gestiti come parte del grafo.\n",
    "\n",
    "### Assignment per i Corsisti\n",
    "- Crea un `ToolNode` con una lista di strumenti personalizzati e osserva come viene gestito nel flusso di lavoro.\n",
    "- Testa l'uso di `ToolNode` in una sequenza di esecuzione e verifica che gli strumenti funzionino correttamente.\n",
    "- Come esercizio, prova ad aggiungere altri strumenti alla lista e analizza come questi influenzano l'output complessivo.\n"
   ]
  },
  {
   "cell_type": "code",
   "execution_count": 4,
   "id": "d70e3e61-1b8a-4133-b2a8-9daef3f38f27",
   "metadata": {},
   "outputs": [],
   "source": [
    "# Try other tools!\n",
    "# from langchain_community.tools.tavily_search import TavilySearchResults\n",
    "# from langchain_community.tools import WikipediaQueryRun\n",
    "# from langchain_community.utilities import WikipediaAPIWrapper\n",
    "\n",
    "\n",
    "from langgraph.prebuilt import ToolNode\n",
    "\n",
    "tools = [get_weather, get_stroke_risk]\n",
    "tool_node = ToolNode(tools)"
   ]
  },
  {
   "cell_type": "code",
   "execution_count": 5,
   "id": "2ebf0fe4-410d-468d-a156-367c5613857d",
   "metadata": {},
   "outputs": [],
   "source": [
    "from langchain_openai import ChatOpenAI  # pip install langchain-openai\n",
    "\n",
    "llm = ChatOpenAI(\n",
    "    openai_api_key=\"HERE YOUR OPENAI API KEY\", \n",
    "    temperature=.75, \n",
    "    max_tokens=1024, \n",
    "    request_timeout=30\n",
    ").bind_tools(tools)"
   ]
  },
  {
   "cell_type": "code",
   "execution_count": 6,
   "id": "60461d01-0768-4c22-ae97-9908b036c299",
   "metadata": {},
   "outputs": [],
   "source": [
    "from typing import Literal\n",
    "\n",
    "from langgraph.graph import StateGraph, MessagesState, START, END\n",
    "from langgraph.checkpoint.memory import MemorySaver\n",
    "\n",
    "\n",
    "def should_continue(state: MessagesState) -> Literal[\"tools\", \"__end__\"]:\n",
    "    messages = state[\"messages\"]\n",
    "    last_message = messages[-1]\n",
    "    if last_message.tool_calls:\n",
    "        return \"tools\"\n",
    "    return END\n",
    "\n",
    "\n",
    "def call_model(state: MessagesState):\n",
    "    messages = state[\"messages\"]\n",
    "    response = llm.invoke(messages)\n",
    "    return {\"messages\": [response]}\n",
    "\n",
    "\n",
    "workflow = StateGraph(MessagesState)\n",
    "\n",
    "# Define the two nodes we will cycle between\n",
    "workflow.add_node(\"agent\", call_model)\n",
    "workflow.add_node(\"tools\", tool_node)\n",
    "\n",
    "workflow.add_edge(START, \"agent\")\n",
    "workflow.add_conditional_edges(\"agent\", should_continue, [\"tools\", END])\n",
    "workflow.add_edge(\"tools\", \"agent\")\n",
    "\n",
    "memory = MemorySaver()\n",
    "app = workflow.compile(checkpointer=memory)"
   ]
  },
  {
   "cell_type": "code",
   "execution_count": 7,
   "id": "688aa240-02f1-49ef-bb67-a27efb49a469",
   "metadata": {},
   "outputs": [
    {
     "data": {
      "image/jpeg": "[encoded data removed]",
      "text/plain": [
       "<IPython.core.display.Image object>"
      ]
     },
     "metadata": {},
     "output_type": "display_data"
    }
   ],
   "source": [
    "display(\n",
    "    Image(\n",
    "        app.get_graph().draw_mermaid_png(\n",
    "            draw_method=MermaidDrawMethod.API,\n",
    "        )\n",
    "    )\n",
    ")"
   ]
  },
  {
   "cell_type": "code",
   "execution_count": 8,
   "id": "5de0f8a9-2f61-4497-8b72-b773bc8ad210",
   "metadata": {},
   "outputs": [
    {
     "name": "stdout",
     "output_type": "stream",
     "text": [
      "================================\u001b[1m Human Message \u001b[0m=================================\n",
      "\n",
      "what's the weather in sf?\n",
      "==================================\u001b[1m Ai Message \u001b[0m==================================\n",
      "Tool Calls:\n",
      "  get_weather (call_WbCMoJ6Xao3j2efBEzFRkjn9)\n",
      " Call ID: call_WbCMoJ6Xao3j2efBEzFRkjn9\n",
      "  Args:\n",
      "    location: San Francisco\n",
      "=================================\u001b[1m Tool Message \u001b[0m=================================\n",
      "Name: get_weather\n",
      "\n",
      "It's 60 degrees and foggy.\n",
      "==================================\u001b[1m Ai Message \u001b[0m==================================\n",
      "\n",
      "The weather in San Francisco is currently 60 degrees and foggy.\n"
     ]
    }
   ],
   "source": [
    "# example with a single tool call\n",
    "for chunk in app.stream(\n",
    "    {\"messages\": [(\"human\", \"what's the weather in sf?\")]}, stream_mode=\"values\", config={\"configurable\": {\"thread_id\": \"1\"}}\n",
    "):\n",
    "    chunk[\"messages\"][-1].pretty_print()"
   ]
  },
  {
   "cell_type": "code",
   "execution_count": 9,
   "id": "9cb28f61-1adc-42b1-a036-bbb1cf1c6803",
   "metadata": {},
   "outputs": [
    {
     "name": "stdout",
     "output_type": "stream",
     "text": [
      "================================\u001b[1m Human Message \u001b[0m=================================\n",
      "\n",
      "Do you have any special tool?\n",
      "==================================\u001b[1m Ai Message \u001b[0m==================================\n",
      "\n",
      "Yes, I have access to various tools that can perform different functions. What specific task or information are you looking for that you need a tool for?\n"
     ]
    }
   ],
   "source": [
    "# example with a single tool call\n",
    "for chunk in app.stream(\n",
    "    {\"messages\": [(\"human\", \"Do you have any special tool?\")]}, stream_mode=\"values\", config={\"configurable\": {\"thread_id\": \"1\"}}\n",
    "):\n",
    "    chunk[\"messages\"][-1].pretty_print()"
   ]
  },
  {
   "cell_type": "code",
   "execution_count": 10,
   "id": "1841c62b-8ddb-43bc-8b03-5fb121da6b41",
   "metadata": {},
   "outputs": [
    {
     "name": "stdout",
     "output_type": "stream",
     "text": [
      "================================\u001b[1m Human Message \u001b[0m=================================\n",
      "\n",
      "i want to know if i am at risk stroke?\n",
      "==================================\u001b[1m Ai Message \u001b[0m==================================\n",
      "\n",
      "To determine if you are at risk of stroke, I can use a tool that analyzes various factors such as age, gender, medical history, and lifestyle habits. Could you please provide me with some information such as your age, gender, medical history (hypertension, heart disease), and other relevant details? This will help me assess your stroke risk accurately.\n"
     ]
    }
   ],
   "source": [
    "# example with a single tool call\n",
    "for chunk in app.stream(\n",
    "    {\"messages\": [(\"human\", \"i want to know if i am at risk stroke?\")]}, stream_mode=\"values\", config={\"configurable\": {\"thread_id\": \"1\"}}\n",
    "):\n",
    "    chunk[\"messages\"][-1].pretty_print()"
   ]
  },
  {
   "cell_type": "code",
   "execution_count": 11,
   "id": "f83f769b-211a-4a24-a37f-2893fed8db8e",
   "metadata": {},
   "outputs": [
    {
     "name": "stdout",
     "output_type": "stream",
     "text": [
      "================================\u001b[1m Human Message \u001b[0m=================================\n",
      "\n",
      "how can i pass the information to you?\n",
      "==================================\u001b[1m Ai Message \u001b[0m==================================\n",
      "\n",
      "You can provide me with the necessary information by answering the following questions:\n",
      "\n",
      "1. What is your age?\n",
      "2. What is your gender (Male, Female, Other)?\n",
      "3. Do you have hypertension? (Yes/No)\n",
      "4. Do you have heart disease? (Yes/No)\n",
      "5. What is your average glucose level?\n",
      "6. What is your BMI?\n",
      "7. Are you ever married? (Yes/No)\n",
      "8. What is your work type (Govt job, Private, Self-employed, etc.)?\n",
      "9. What is your residence type (Rural, Urban)?\n",
      "10. What is your smoking status (Formerly smoked, Never smoked, Smokes, Unknown)?\n",
      "\n",
      "Once you provide me with this information, I can use a tool to assess your risk of stroke.\n"
     ]
    }
   ],
   "source": [
    "# example with a single tool call\n",
    "for chunk in app.stream(\n",
    "    {\"messages\": [(\"human\", \"how can i pass the information to you?\")]}, stream_mode=\"values\", config={\"configurable\": {\"thread_id\": \"1\"}}\n",
    "):\n",
    "    chunk[\"messages\"][-1].pretty_print()\n"
   ]
  },
  {
   "cell_type": "code",
   "execution_count": 12,
   "id": "af1d647b-9038-4b36-a98f-8def13e506ff",
   "metadata": {},
   "outputs": [
    {
     "name": "stdout",
     "output_type": "stream",
     "text": [
      "================================\u001b[1m Human Message \u001b[0m=================================\n",
      "\n",
      "\n",
      "Alex Rivera is a seasoned professional in his mid-50s, known for his resilience and dedication to public service. Having spent years in government roles, he is well-acquainted with the intricacies of administrative work. He enjoys life in a lively urban setting, where the pace and culture match his dynamic lifestyle.\n",
      "\n",
      "Alex's health journey includes managing certain conditions, which he handles with a proactive approach, maintaining a balanced lifestyle. Family is central to his life, and with a long-standing marriage, he finds great joy in spending time with his loved ones, especially sharing stories and wisdom with the younger generation. A non-smoker with a disciplined routine, Alex is a firm believer in nurturing well-being for himself and those around him.\n",
      "\n",
      "==================================\u001b[1m Ai Message \u001b[0m==================================\n",
      "Tool Calls:\n",
      "  get_stroke_risk (call_11vYIkQPgCmzrwTdNZZ7tak2)\n",
      " Call ID: call_11vYIkQPgCmzrwTdNZZ7tak2\n",
      "  Args:\n",
      "    age: 55\n",
      "    gender_Male: True\n",
      "    gender_Female: False\n",
      "    gender_Other: False\n",
      "    hypertension: 0\n",
      "    heart_disease: 0\n",
      "    avg_glucose_level: 0\n",
      "    bmi: 0\n",
      "    ever_married_No: False\n",
      "    ever_married_Yes: True\n",
      "    work_type_Govt_job: True\n",
      "    work_type_Never_worked: False\n",
      "    work_type_Private: False\n",
      "    work_type_Self_employed: False\n",
      "    work_type_children: False\n",
      "    Residence_type_Rural: False\n",
      "    Residence_type_Urban: True\n",
      "    smoking_status_Unknown: False\n",
      "    smoking_status_formerly_smoked: False\n",
      "    smoking_status_never_smoked: True\n",
      "    smoking_status_smokes: False\n",
      "55\n",
      "\u001b[1m1/1\u001b[0m \u001b[32m━━━━━━━━━━━━━━━━━━━━\u001b[0m\u001b[37m\u001b[0m \u001b[1m0s\u001b[0m 18ms/step\n",
      "=================================\u001b[1m Tool Message \u001b[0m=================================\n",
      "Name: get_stroke_risk\n",
      "\n",
      "[[0]]\n",
      "==================================\u001b[1m Ai Message \u001b[0m==================================\n",
      "\n",
      "Based on the information provided about Alex Rivera, his risk of stroke is low. It seems like he maintains a balanced lifestyle, is proactive about managing his health conditions, and does not engage in smoking. This proactive approach and healthy lifestyle choices contribute to reducing his risk of stroke. However, it's always important to continue monitoring and maintaining a healthy lifestyle to prevent any potential health risks.\n"
     ]
    }
   ],
   "source": [
    "# example with a single tool call\n",
    "\n",
    "description = \"\"\"\n",
    "Alex Rivera is a seasoned professional in his mid-50s, known for his resilience and dedication to public service. Having spent years in government roles, he is well-acquainted with the intricacies of administrative work. He enjoys life in a lively urban setting, where the pace and culture match his dynamic lifestyle.\n",
    "\n",
    "Alex's health journey includes managing certain conditions, which he handles with a proactive approach, maintaining a balanced lifestyle. Family is central to his life, and with a long-standing marriage, he finds great joy in spending time with his loved ones, especially sharing stories and wisdom with the younger generation. A non-smoker with a disciplined routine, Alex is a firm believer in nurturing well-being for himself and those around him.\n",
    "\"\"\"\n",
    "\n",
    "\n",
    "for chunk in app.stream(\n",
    "    {\"messages\": [(\"human\", description)]}, stream_mode=\"values\", config={\"configurable\": {\"thread_id\": \"1\"}}\n",
    "):\n",
    "    chunk[\"messages\"][-1].pretty_print()"
   ]
  },
  {
   "cell_type": "code",
   "execution_count": 13,
   "id": "01185538-4c8a-4be0-b741-54b716f7c3be",
   "metadata": {},
   "outputs": [],
   "source": [
    "resp = app.invoke(\n",
    "    {\"messages\": [\"what's the name of the guy?\"]}, \n",
    "    config={\"configurable\": {\"thread_id\": \"1\"}},\n",
    ")"
   ]
  },
  {
   "cell_type": "code",
   "execution_count": 14,
   "id": "1b7ee9f5-987b-4808-8255-665b2a737e37",
   "metadata": {},
   "outputs": [
    {
     "name": "stdout",
     "output_type": "stream",
     "text": [
      "==================================\u001b[1m Ai Message \u001b[0m==================================\n",
      "\n",
      "The individual in the scenario provided is named Alex Rivera.\n"
     ]
    }
   ],
   "source": [
    "resp['messages'][-1].pretty_print()"
   ]
  },
  {
   "cell_type": "code",
   "execution_count": null,
   "id": "f89b7561-09e1-4769-a755-8ba323bb7095",
   "metadata": {},
   "outputs": [],
   "source": []
  }
 ],
 "metadata": {
  "kernelspec": {
   "display_name": "Python 3 (ipykernel)",
   "language": "python",
   "name": "python3"
  },
  "language_info": {
   "codemirror_mode": {
    "name": "ipython",
    "version": 3
   },
   "file_extension": ".py",
   "mimetype": "text/x-python",
   "name": "python",
   "nbconvert_exporter": "python",
   "pygments_lexer": "ipython3",
   "version": "3.11.7"
  }
 },
 "nbformat": 4,
 "nbformat_minor": 5
}
