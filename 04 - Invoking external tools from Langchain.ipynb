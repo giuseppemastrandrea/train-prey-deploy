{
 "cells": [
  {
   "cell_type": "code",
   "execution_count": 1,
   "id": "1e7f5f42",
   "metadata": {},
   "outputs": [
    {
     "name": "stdout",
     "output_type": "stream",
     "text": [
      "Requirement already satisfied: langchain in /Users/giumast/.pyenv/versions/3.10.0/lib/python3.10/site-packages (0.1.20)\n",
      "Requirement already satisfied: PyYAML>=5.3 in /Users/giumast/.pyenv/versions/3.10.0/lib/python3.10/site-packages (from langchain) (6.0)\n",
      "Requirement already satisfied: langchain-community<0.1,>=0.0.38 in /Users/giumast/.pyenv/versions/3.10.0/lib/python3.10/site-packages (from langchain) (0.0.38)\n",
      "Requirement already satisfied: pydantic<3,>=1 in /Users/giumast/.pyenv/versions/3.10.0/lib/python3.10/site-packages (from langchain) (2.6.1)\n",
      "Requirement already satisfied: langchain-core<0.2.0,>=0.1.52 in /Users/giumast/.pyenv/versions/3.10.0/lib/python3.10/site-packages (from langchain) (0.1.52)\n",
      "Requirement already satisfied: SQLAlchemy<3,>=1.4 in /Users/giumast/.pyenv/versions/3.10.0/lib/python3.10/site-packages (from langchain) (2.0.29)\n",
      "Requirement already satisfied: requests<3,>=2 in /Users/giumast/.pyenv/versions/3.10.0/lib/python3.10/site-packages (from langchain) (2.28.1)\n",
      "Requirement already satisfied: dataclasses-json<0.7,>=0.5.7 in /Users/giumast/.pyenv/versions/3.10.0/lib/python3.10/site-packages (from langchain) (0.6.6)\n",
      "Requirement already satisfied: async-timeout<5.0.0,>=4.0.0 in /Users/giumast/.pyenv/versions/3.10.0/lib/python3.10/site-packages (from langchain) (4.0.3)\n",
      "Requirement already satisfied: aiohttp<4.0.0,>=3.8.3 in /Users/giumast/.pyenv/versions/3.10.0/lib/python3.10/site-packages (from langchain) (3.9.5)\n",
      "Requirement already satisfied: tenacity<9.0.0,>=8.1.0 in /Users/giumast/.pyenv/versions/3.10.0/lib/python3.10/site-packages (from langchain) (8.2.2)\n",
      "Requirement already satisfied: langchain-text-splitters<0.1,>=0.0.1 in /Users/giumast/.pyenv/versions/3.10.0/lib/python3.10/site-packages (from langchain) (0.0.1)\n",
      "Requirement already satisfied: langsmith<0.2.0,>=0.1.17 in /Users/giumast/.pyenv/versions/3.10.0/lib/python3.10/site-packages (from langchain) (0.1.57)\n",
      "Requirement already satisfied: numpy<2,>=1 in /Users/giumast/.pyenv/versions/3.10.0/lib/python3.10/site-packages (from langchain) (1.24.3)\n",
      "Requirement already satisfied: attrs>=17.3.0 in /Users/giumast/.pyenv/versions/3.10.0/lib/python3.10/site-packages (from aiohttp<4.0.0,>=3.8.3->langchain) (21.4.0)\n",
      "Requirement already satisfied: multidict<7.0,>=4.5 in /Users/giumast/.pyenv/versions/3.10.0/lib/python3.10/site-packages (from aiohttp<4.0.0,>=3.8.3->langchain) (6.0.5)\n",
      "Requirement already satisfied: yarl<2.0,>=1.0 in /Users/giumast/.pyenv/versions/3.10.0/lib/python3.10/site-packages (from aiohttp<4.0.0,>=3.8.3->langchain) (1.9.4)\n",
      "Requirement already satisfied: frozenlist>=1.1.1 in /Users/giumast/.pyenv/versions/3.10.0/lib/python3.10/site-packages (from aiohttp<4.0.0,>=3.8.3->langchain) (1.4.1)\n",
      "Requirement already satisfied: aiosignal>=1.1.2 in /Users/giumast/.pyenv/versions/3.10.0/lib/python3.10/site-packages (from aiohttp<4.0.0,>=3.8.3->langchain) (1.3.1)\n",
      "Requirement already satisfied: typing-inspect<1,>=0.4.0 in /Users/giumast/.pyenv/versions/3.10.0/lib/python3.10/site-packages (from dataclasses-json<0.7,>=0.5.7->langchain) (0.9.0)\n",
      "Requirement already satisfied: marshmallow<4.0.0,>=3.18.0 in /Users/giumast/.pyenv/versions/3.10.0/lib/python3.10/site-packages (from dataclasses-json<0.7,>=0.5.7->langchain) (3.21.2)\n",
      "Requirement already satisfied: packaging<24.0,>=23.2 in /Users/giumast/.pyenv/versions/3.10.0/lib/python3.10/site-packages (from langchain-core<0.2.0,>=0.1.52->langchain) (23.2)\n",
      "Requirement already satisfied: jsonpatch<2.0,>=1.33 in /Users/giumast/.pyenv/versions/3.10.0/lib/python3.10/site-packages (from langchain-core<0.2.0,>=0.1.52->langchain) (1.33)\n",
      "Requirement already satisfied: jsonpointer>=1.9 in /Users/giumast/.pyenv/versions/3.10.0/lib/python3.10/site-packages (from jsonpatch<2.0,>=1.33->langchain-core<0.2.0,>=0.1.52->langchain) (2.4)\n",
      "Requirement already satisfied: orjson<4.0.0,>=3.9.14 in /Users/giumast/.pyenv/versions/3.10.0/lib/python3.10/site-packages (from langsmith<0.2.0,>=0.1.17->langchain) (3.10.3)\n",
      "Requirement already satisfied: typing-extensions>=4.6.1 in /Users/giumast/.pyenv/versions/3.10.0/lib/python3.10/site-packages (from pydantic<3,>=1->langchain) (4.11.0)\n",
      "Requirement already satisfied: pydantic-core==2.16.2 in /Users/giumast/.pyenv/versions/3.10.0/lib/python3.10/site-packages (from pydantic<3,>=1->langchain) (2.16.2)\n",
      "Requirement already satisfied: annotated-types>=0.4.0 in /Users/giumast/.pyenv/versions/3.10.0/lib/python3.10/site-packages (from pydantic<3,>=1->langchain) (0.6.0)\n",
      "Requirement already satisfied: idna<4,>=2.5 in /Users/giumast/.pyenv/versions/3.10.0/lib/python3.10/site-packages (from requests<3,>=2->langchain) (3.3)\n",
      "Requirement already satisfied: charset-normalizer<3,>=2 in /Users/giumast/.pyenv/versions/3.10.0/lib/python3.10/site-packages (from requests<3,>=2->langchain) (2.1.0)\n",
      "Requirement already satisfied: certifi>=2017.4.17 in /Users/giumast/.pyenv/versions/3.10.0/lib/python3.10/site-packages (from requests<3,>=2->langchain) (2022.6.15)\n",
      "Requirement already satisfied: urllib3<1.27,>=1.21.1 in /Users/giumast/.pyenv/versions/3.10.0/lib/python3.10/site-packages (from requests<3,>=2->langchain) (1.26.10)\n",
      "Requirement already satisfied: mypy-extensions>=0.3.0 in /Users/giumast/.pyenv/versions/3.10.0/lib/python3.10/site-packages (from typing-inspect<1,>=0.4.0->dataclasses-json<0.7,>=0.5.7->langchain) (1.0.0)\n",
      "\u001b[33mWARNING: You are using pip version 21.2.3; however, version 24.0 is available.\n",
      "You should consider upgrading via the '/Users/giumast/.pyenv/versions/3.10.0/bin/python3.10 -m pip install --upgrade pip' command.\u001b[0m\n",
      "Note: you may need to restart the kernel to use updated packages.\n"
     ]
    }
   ],
   "source": [
    "%pip install langchain"
   ]
  },
  {
   "cell_type": "code",
   "execution_count": 2,
   "id": "8227539e",
   "metadata": {},
   "outputs": [],
   "source": [
    "from langchain.pydantic_v1 import BaseModel, Field\n",
    "from langchain.tools import StructuredTool, tool\n",
    "from typing import List\n",
    "\n",
    "import tensorflow as tf\n",
    "\n"
   ]
  },
  {
   "cell_type": "code",
   "execution_count": 5,
   "id": "83860f79",
   "metadata": {},
   "outputs": [
    {
     "name": "stdout",
     "output_type": "stream",
     "text": [
      "Tool:         [wine-quality-tool]\n",
      "Descrizione:  wine-quality-tool(query: list) -> int - A tool that predicts the wine quality\n",
      "Input schema: {'query': {'title': 'Query', 'type': 'array', 'items': {}}}\n"
     ]
    }
   ],
   "source": [
    "class WineParams(BaseModel):\n",
    "    query: List[List] = Field(default=[], description=\"A list of chemicals in our wine\")\n",
    "    \n",
    "@tool(\"wine-quality-tool\", return_direct=True)\n",
    "def predict_wine_quality(query: list) -> int:\n",
    "    \"\"\"A tool that predicts the wine quality\"\"\"\n",
    "    model = tf.keras.saving.load_model(\"model/model.h5\")\n",
    "    preds = model.predict(query)\n",
    "    return preds[0][0]\n",
    "\n",
    "print(f\"Tool:         [{predict_wine_quality.name}]\\nDescrizione:  {predict_wine_quality.description}\\nInput schema: {predict_wine_quality.args}\")\n",
    "\n"
   ]
  },
  {
   "cell_type": "code",
   "execution_count": 6,
   "id": "5214b76c",
   "metadata": {
    "scrolled": false
   },
   "outputs": [
    {
     "ename": "NameError",
     "evalue": "name 'Type' is not defined",
     "output_type": "error",
     "traceback": [
      "\u001b[0;31m---------------------------------------------------------------------------\u001b[0m",
      "\u001b[0;31mNameError\u001b[0m                                 Traceback (most recent call last)",
      "Input \u001b[0;32mIn [6]\u001b[0m, in \u001b[0;36m<cell line: 13>\u001b[0;34m()\u001b[0m\n\u001b[1;32m      4\u001b[0m     \u001b[38;5;28;01mreturn\u001b[39;00m \u001b[38;5;124m\"\u001b[39m\u001b[38;5;124mpippo\u001b[39m\u001b[38;5;124m\"\u001b[39m\n\u001b[1;32m      6\u001b[0m xyz_tool \u001b[38;5;241m=\u001b[39m StructuredTool\u001b[38;5;241m.\u001b[39mfrom_function(\n\u001b[1;32m      7\u001b[0m     func\u001b[38;5;241m=\u001b[39mxyz,\n\u001b[1;32m      8\u001b[0m     name\u001b[38;5;241m=\u001b[39m\u001b[38;5;124m\"\u001b[39m\u001b[38;5;124mxyz-tool\u001b[39m\u001b[38;5;124m\"\u001b[39m,\n\u001b[1;32m      9\u001b[0m     description\u001b[38;5;241m=\u001b[39m\u001b[38;5;124m\"\u001b[39m\u001b[38;5;124mLorem Ipsum dolor sit amet.\u001b[39m\u001b[38;5;124m\"\u001b[39m,\n\u001b[1;32m     10\u001b[0m     \u001b[38;5;66;03m# coroutine= ... eventuale metodo per chiamate asincrone, se disponibile\u001b[39;00m\n\u001b[1;32m     11\u001b[0m )\n\u001b[0;32m---> 13\u001b[0m wine_tool \u001b[38;5;241m=\u001b[39m \u001b[43mStructuredTool\u001b[49m\u001b[38;5;241;43m.\u001b[39;49m\u001b[43mfrom_function\u001b[49m\u001b[43m(\u001b[49m\n\u001b[1;32m     14\u001b[0m \u001b[43m    \u001b[49m\u001b[43mfunc\u001b[49m\u001b[38;5;241;43m=\u001b[39;49m\u001b[43mpredict_wine_quality\u001b[49m\u001b[43m,\u001b[49m\n\u001b[1;32m     15\u001b[0m \u001b[43m    \u001b[49m\u001b[43mname\u001b[49m\u001b[38;5;241;43m=\u001b[39;49m\u001b[38;5;124;43m\"\u001b[39;49m\u001b[38;5;124;43mwine-tool\u001b[39;49m\u001b[38;5;124;43m\"\u001b[39;49m\u001b[43m,\u001b[49m\n\u001b[1;32m     16\u001b[0m \u001b[43m    \u001b[49m\u001b[43mdescription\u001b[49m\u001b[38;5;241;43m=\u001b[39;49m\u001b[38;5;124;43m\"\u001b[39;49m\u001b[38;5;124;43mUse this tool to predict wine quality\u001b[39;49m\u001b[38;5;124;43m\"\u001b[39;49m\u001b[43m,\u001b[49m\n\u001b[1;32m     17\u001b[0m \u001b[43m)\u001b[49m\n",
      "File \u001b[0;32m~/.pyenv/versions/3.10.0/lib/python3.10/site-packages/langchain_core/tools.py:845\u001b[0m, in \u001b[0;36mStructuredTool.from_function\u001b[0;34m(cls, func, coroutine, name, description, return_direct, args_schema, infer_schema, **kwargs)\u001b[0m\n\u001b[1;32m    842\u001b[0m _args_schema \u001b[38;5;241m=\u001b[39m args_schema\n\u001b[1;32m    843\u001b[0m \u001b[38;5;28;01mif\u001b[39;00m _args_schema \u001b[38;5;129;01mis\u001b[39;00m \u001b[38;5;28;01mNone\u001b[39;00m \u001b[38;5;129;01mand\u001b[39;00m infer_schema:\n\u001b[1;32m    844\u001b[0m     \u001b[38;5;66;03m# schema name is appended within function\u001b[39;00m\n\u001b[0;32m--> 845\u001b[0m     _args_schema \u001b[38;5;241m=\u001b[39m \u001b[43mcreate_schema_from_function\u001b[49m\u001b[43m(\u001b[49m\u001b[43mname\u001b[49m\u001b[43m,\u001b[49m\u001b[43m \u001b[49m\u001b[43msource_function\u001b[49m\u001b[43m)\u001b[49m\n\u001b[1;32m    846\u001b[0m \u001b[38;5;28;01mreturn\u001b[39;00m \u001b[38;5;28mcls\u001b[39m(\n\u001b[1;32m    847\u001b[0m     name\u001b[38;5;241m=\u001b[39mname,\n\u001b[1;32m    848\u001b[0m     func\u001b[38;5;241m=\u001b[39mfunc,\n\u001b[0;32m   (...)\u001b[0m\n\u001b[1;32m    853\u001b[0m     \u001b[38;5;241m*\u001b[39m\u001b[38;5;241m*\u001b[39mkwargs,\n\u001b[1;32m    854\u001b[0m )\n",
      "File \u001b[0;32m~/.pyenv/versions/3.10.0/lib/python3.10/site-packages/langchain_core/tools.py:126\u001b[0m, in \u001b[0;36mcreate_schema_from_function\u001b[0;34m(model_name, func)\u001b[0m\n\u001b[1;32m    118\u001b[0m \u001b[38;5;124;03m\"\"\"Create a pydantic schema from a function's signature.\u001b[39;00m\n\u001b[1;32m    119\u001b[0m \u001b[38;5;124;03mArgs:\u001b[39;00m\n\u001b[1;32m    120\u001b[0m \u001b[38;5;124;03m    model_name: Name to assign to the generated pydandic schema\u001b[39;00m\n\u001b[0;32m   (...)\u001b[0m\n\u001b[1;32m    123\u001b[0m \u001b[38;5;124;03m    A pydantic model with the same arguments as the function\u001b[39;00m\n\u001b[1;32m    124\u001b[0m \u001b[38;5;124;03m\"\"\"\u001b[39;00m\n\u001b[1;32m    125\u001b[0m \u001b[38;5;66;03m# https://docs.pydantic.dev/latest/usage/validation_decorator/\u001b[39;00m\n\u001b[0;32m--> 126\u001b[0m validated \u001b[38;5;241m=\u001b[39m \u001b[43mvalidate_arguments\u001b[49m\u001b[43m(\u001b[49m\u001b[43mfunc\u001b[49m\u001b[43m,\u001b[49m\u001b[43m \u001b[49m\u001b[43mconfig\u001b[49m\u001b[38;5;241;43m=\u001b[39;49m\u001b[43m_SchemaConfig\u001b[49m\u001b[43m)\u001b[49m  \u001b[38;5;66;03m# type: ignore\u001b[39;00m\n\u001b[1;32m    127\u001b[0m inferred_model \u001b[38;5;241m=\u001b[39m validated\u001b[38;5;241m.\u001b[39mmodel  \u001b[38;5;66;03m# type: ignore\u001b[39;00m\n\u001b[1;32m    128\u001b[0m \u001b[38;5;28;01mif\u001b[39;00m \u001b[38;5;124m\"\u001b[39m\u001b[38;5;124mrun_manager\u001b[39m\u001b[38;5;124m\"\u001b[39m \u001b[38;5;129;01min\u001b[39;00m inferred_model\u001b[38;5;241m.\u001b[39m__fields__:\n",
      "File \u001b[0;32m~/.pyenv/versions/3.10.0/lib/python3.10/site-packages/pydantic/v1/decorator.py:49\u001b[0m, in \u001b[0;36mvalidate_arguments\u001b[0;34m(func, config)\u001b[0m\n\u001b[1;32m     46\u001b[0m     \u001b[38;5;28;01mreturn\u001b[39;00m wrapper_function\n\u001b[1;32m     48\u001b[0m \u001b[38;5;28;01mif\u001b[39;00m func:\n\u001b[0;32m---> 49\u001b[0m     \u001b[38;5;28;01mreturn\u001b[39;00m \u001b[43mvalidate\u001b[49m\u001b[43m(\u001b[49m\u001b[43mfunc\u001b[49m\u001b[43m)\u001b[49m\n\u001b[1;32m     50\u001b[0m \u001b[38;5;28;01melse\u001b[39;00m:\n\u001b[1;32m     51\u001b[0m     \u001b[38;5;28;01mreturn\u001b[39;00m validate\n",
      "File \u001b[0;32m~/.pyenv/versions/3.10.0/lib/python3.10/site-packages/pydantic/v1/decorator.py:36\u001b[0m, in \u001b[0;36mvalidate_arguments.<locals>.validate\u001b[0;34m(_func)\u001b[0m\n\u001b[1;32m     35\u001b[0m \u001b[38;5;28;01mdef\u001b[39;00m \u001b[38;5;21mvalidate\u001b[39m(_func: \u001b[38;5;124m'\u001b[39m\u001b[38;5;124mAnyCallable\u001b[39m\u001b[38;5;124m'\u001b[39m) \u001b[38;5;241m-\u001b[39m\u001b[38;5;241m>\u001b[39m \u001b[38;5;124m'\u001b[39m\u001b[38;5;124mAnyCallable\u001b[39m\u001b[38;5;124m'\u001b[39m:\n\u001b[0;32m---> 36\u001b[0m     vd \u001b[38;5;241m=\u001b[39m \u001b[43mValidatedFunction\u001b[49m\u001b[43m(\u001b[49m\u001b[43m_func\u001b[49m\u001b[43m,\u001b[49m\u001b[43m \u001b[49m\u001b[43mconfig\u001b[49m\u001b[43m)\u001b[49m\n\u001b[1;32m     38\u001b[0m     \u001b[38;5;129m@wraps\u001b[39m(_func)\n\u001b[1;32m     39\u001b[0m     \u001b[38;5;28;01mdef\u001b[39;00m \u001b[38;5;21mwrapper_function\u001b[39m(\u001b[38;5;241m*\u001b[39margs: Any, \u001b[38;5;241m*\u001b[39m\u001b[38;5;241m*\u001b[39mkwargs: Any) \u001b[38;5;241m-\u001b[39m\u001b[38;5;241m>\u001b[39m Any:\n\u001b[1;32m     40\u001b[0m         \u001b[38;5;28;01mreturn\u001b[39;00m vd\u001b[38;5;241m.\u001b[39mcall(\u001b[38;5;241m*\u001b[39margs, \u001b[38;5;241m*\u001b[39m\u001b[38;5;241m*\u001b[39mkwargs)\n",
      "File \u001b[0;32m~/.pyenv/versions/3.10.0/lib/python3.10/site-packages/pydantic/v1/decorator.py:78\u001b[0m, in \u001b[0;36mValidatedFunction.__init__\u001b[0;34m(self, function, config)\u001b[0m\n\u001b[1;32m     75\u001b[0m \u001b[38;5;28mself\u001b[39m\u001b[38;5;241m.\u001b[39mv_args_name \u001b[38;5;241m=\u001b[39m \u001b[38;5;124m'\u001b[39m\u001b[38;5;124margs\u001b[39m\u001b[38;5;124m'\u001b[39m\n\u001b[1;32m     76\u001b[0m \u001b[38;5;28mself\u001b[39m\u001b[38;5;241m.\u001b[39mv_kwargs_name \u001b[38;5;241m=\u001b[39m \u001b[38;5;124m'\u001b[39m\u001b[38;5;124mkwargs\u001b[39m\u001b[38;5;124m'\u001b[39m\n\u001b[0;32m---> 78\u001b[0m type_hints \u001b[38;5;241m=\u001b[39m \u001b[43mget_all_type_hints\u001b[49m\u001b[43m(\u001b[49m\u001b[43mfunction\u001b[49m\u001b[43m)\u001b[49m\n\u001b[1;32m     79\u001b[0m takes_args \u001b[38;5;241m=\u001b[39m \u001b[38;5;28;01mFalse\u001b[39;00m\n\u001b[1;32m     80\u001b[0m takes_kwargs \u001b[38;5;241m=\u001b[39m \u001b[38;5;28;01mFalse\u001b[39;00m\n",
      "File \u001b[0;32m~/.pyenv/versions/3.10.0/lib/python3.10/site-packages/pydantic/v1/typing.py:78\u001b[0m, in \u001b[0;36mget_all_type_hints\u001b[0;34m(obj, globalns, localns)\u001b[0m\n\u001b[1;32m     77\u001b[0m \u001b[38;5;28;01mdef\u001b[39;00m \u001b[38;5;21mget_all_type_hints\u001b[39m(obj: Any, globalns: Any \u001b[38;5;241m=\u001b[39m \u001b[38;5;28;01mNone\u001b[39;00m, localns: Any \u001b[38;5;241m=\u001b[39m \u001b[38;5;28;01mNone\u001b[39;00m) \u001b[38;5;241m-\u001b[39m\u001b[38;5;241m>\u001b[39m Any:\n\u001b[0;32m---> 78\u001b[0m     \u001b[38;5;28;01mreturn\u001b[39;00m \u001b[43mget_type_hints\u001b[49m\u001b[43m(\u001b[49m\u001b[43mobj\u001b[49m\u001b[43m,\u001b[49m\u001b[43m \u001b[49m\u001b[43mglobalns\u001b[49m\u001b[43m,\u001b[49m\u001b[43m \u001b[49m\u001b[43mlocalns\u001b[49m\u001b[43m,\u001b[49m\u001b[43m \u001b[49m\u001b[43minclude_extras\u001b[49m\u001b[38;5;241;43m=\u001b[39;49m\u001b[38;5;28;43;01mTrue\u001b[39;49;00m\u001b[43m)\u001b[49m\n",
      "File \u001b[0;32m~/.pyenv/versions/3.10.0/lib/python3.10/typing.py:1836\u001b[0m, in \u001b[0;36mget_type_hints\u001b[0;34m(obj, globalns, localns, include_extras)\u001b[0m\n\u001b[1;32m   1834\u001b[0m \u001b[38;5;28;01mif\u001b[39;00m \u001b[38;5;28misinstance\u001b[39m(value, \u001b[38;5;28mstr\u001b[39m):\n\u001b[1;32m   1835\u001b[0m     value \u001b[38;5;241m=\u001b[39m ForwardRef(value)\n\u001b[0;32m-> 1836\u001b[0m value \u001b[38;5;241m=\u001b[39m \u001b[43m_eval_type\u001b[49m\u001b[43m(\u001b[49m\u001b[43mvalue\u001b[49m\u001b[43m,\u001b[49m\u001b[43m \u001b[49m\u001b[43mglobalns\u001b[49m\u001b[43m,\u001b[49m\u001b[43m \u001b[49m\u001b[43mlocalns\u001b[49m\u001b[43m)\u001b[49m\n\u001b[1;32m   1837\u001b[0m \u001b[38;5;28;01mif\u001b[39;00m name \u001b[38;5;129;01min\u001b[39;00m defaults \u001b[38;5;129;01mand\u001b[39;00m defaults[name] \u001b[38;5;129;01mis\u001b[39;00m \u001b[38;5;28;01mNone\u001b[39;00m:\n\u001b[1;32m   1838\u001b[0m     value \u001b[38;5;241m=\u001b[39m Optional[value]\n",
      "File \u001b[0;32m~/.pyenv/versions/3.10.0/lib/python3.10/typing.py:324\u001b[0m, in \u001b[0;36m_eval_type\u001b[0;34m(t, globalns, localns, recursive_guard)\u001b[0m\n\u001b[1;32m    318\u001b[0m \u001b[38;5;124;03m\"\"\"Evaluate all forward references in the given type t.\u001b[39;00m\n\u001b[1;32m    319\u001b[0m \u001b[38;5;124;03mFor use of globalns and localns see the docstring for get_type_hints().\u001b[39;00m\n\u001b[1;32m    320\u001b[0m \u001b[38;5;124;03mrecursive_guard is used to prevent prevent infinite recursion\u001b[39;00m\n\u001b[1;32m    321\u001b[0m \u001b[38;5;124;03mwith recursive ForwardRef.\u001b[39;00m\n\u001b[1;32m    322\u001b[0m \u001b[38;5;124;03m\"\"\"\u001b[39;00m\n\u001b[1;32m    323\u001b[0m \u001b[38;5;28;01mif\u001b[39;00m \u001b[38;5;28misinstance\u001b[39m(t, ForwardRef):\n\u001b[0;32m--> 324\u001b[0m     \u001b[38;5;28;01mreturn\u001b[39;00m \u001b[43mt\u001b[49m\u001b[38;5;241;43m.\u001b[39;49m\u001b[43m_evaluate\u001b[49m\u001b[43m(\u001b[49m\u001b[43mglobalns\u001b[49m\u001b[43m,\u001b[49m\u001b[43m \u001b[49m\u001b[43mlocalns\u001b[49m\u001b[43m,\u001b[49m\u001b[43m \u001b[49m\u001b[43mrecursive_guard\u001b[49m\u001b[43m)\u001b[49m\n\u001b[1;32m    325\u001b[0m \u001b[38;5;28;01mif\u001b[39;00m \u001b[38;5;28misinstance\u001b[39m(t, (_GenericAlias, GenericAlias, types\u001b[38;5;241m.\u001b[39mUnionType)):\n\u001b[1;32m    326\u001b[0m     ev_args \u001b[38;5;241m=\u001b[39m \u001b[38;5;28mtuple\u001b[39m(_eval_type(a, globalns, localns, recursive_guard) \u001b[38;5;28;01mfor\u001b[39;00m a \u001b[38;5;129;01min\u001b[39;00m t\u001b[38;5;241m.\u001b[39m__args__)\n",
      "File \u001b[0;32m~/.pyenv/versions/3.10.0/lib/python3.10/typing.py:688\u001b[0m, in \u001b[0;36mForwardRef._evaluate\u001b[0;34m(self, globalns, localns, recursive_guard)\u001b[0m\n\u001b[1;32m    683\u001b[0m \u001b[38;5;28;01mif\u001b[39;00m \u001b[38;5;28mself\u001b[39m\u001b[38;5;241m.\u001b[39m__forward_module__ \u001b[38;5;129;01mis\u001b[39;00m \u001b[38;5;129;01mnot\u001b[39;00m \u001b[38;5;28;01mNone\u001b[39;00m:\n\u001b[1;32m    684\u001b[0m     globalns \u001b[38;5;241m=\u001b[39m \u001b[38;5;28mgetattr\u001b[39m(\n\u001b[1;32m    685\u001b[0m         sys\u001b[38;5;241m.\u001b[39mmodules\u001b[38;5;241m.\u001b[39mget(\u001b[38;5;28mself\u001b[39m\u001b[38;5;241m.\u001b[39m__forward_module__, \u001b[38;5;28;01mNone\u001b[39;00m), \u001b[38;5;124m'\u001b[39m\u001b[38;5;124m__dict__\u001b[39m\u001b[38;5;124m'\u001b[39m, globalns\n\u001b[1;32m    686\u001b[0m     )\n\u001b[1;32m    687\u001b[0m type_ \u001b[38;5;241m=\u001b[39m_type_check(\n\u001b[0;32m--> 688\u001b[0m     \u001b[38;5;28;43meval\u001b[39;49m\u001b[43m(\u001b[49m\u001b[38;5;28;43mself\u001b[39;49m\u001b[38;5;241;43m.\u001b[39;49m\u001b[43m__forward_code__\u001b[49m\u001b[43m,\u001b[49m\u001b[43m \u001b[49m\u001b[43mglobalns\u001b[49m\u001b[43m,\u001b[49m\u001b[43m \u001b[49m\u001b[43mlocalns\u001b[49m\u001b[43m)\u001b[49m,\n\u001b[1;32m    689\u001b[0m     \u001b[38;5;124m\"\u001b[39m\u001b[38;5;124mForward references must evaluate to types.\u001b[39m\u001b[38;5;124m\"\u001b[39m,\n\u001b[1;32m    690\u001b[0m     is_argument\u001b[38;5;241m=\u001b[39m\u001b[38;5;28mself\u001b[39m\u001b[38;5;241m.\u001b[39m__forward_is_argument__,\n\u001b[1;32m    691\u001b[0m )\n\u001b[1;32m    692\u001b[0m \u001b[38;5;28mself\u001b[39m\u001b[38;5;241m.\u001b[39m__forward_value__ \u001b[38;5;241m=\u001b[39m _eval_type(\n\u001b[1;32m    693\u001b[0m     type_, globalns, localns, recursive_guard \u001b[38;5;241m|\u001b[39m {\u001b[38;5;28mself\u001b[39m\u001b[38;5;241m.\u001b[39m__forward_arg__}\n\u001b[1;32m    694\u001b[0m )\n\u001b[1;32m    695\u001b[0m \u001b[38;5;28mself\u001b[39m\u001b[38;5;241m.\u001b[39m__forward_evaluated__ \u001b[38;5;241m=\u001b[39m \u001b[38;5;28;01mTrue\u001b[39;00m\n",
      "File \u001b[0;32m<string>:1\u001b[0m, in \u001b[0;36m<module>\u001b[0;34m\u001b[0m\n",
      "\u001b[0;31mNameError\u001b[0m: name 'Type' is not defined"
     ]
    }
   ],
   "source": [
    "# alternative method\n",
    "\n",
    "def xyz(query):\n",
    "    return \"pippo\"\n",
    "\n",
    "xyz_tool = StructuredTool.from_function(\n",
    "    func=xyz,\n",
    "    name=\"xyz-tool\",\n",
    "    description=\"Lorem Ipsum dolor sit amet.\",\n",
    "    # coroutine= ... eventuale metodo per chiamate asincrone, se disponibile\n",
    ")\n",
    "\n",
    "wine_tool = StructuredTool.from_function(\n",
    "    func=predict_wine_quality,\n",
    "    name=\"wine-tool\",\n",
    "    description=\"Use this tool to predict wine quality\",\n",
    ")"
   ]
  },
  {
   "cell_type": "code",
   "execution_count": null,
   "id": "6a9b1a61",
   "metadata": {},
   "outputs": [],
   "source": [
    "predict_wine_quality.run({\"query\": [[\n",
    "        0.30973451, \n",
    "        0.11643836, \n",
    "        0.36      , \n",
    "        0.0890411 , \n",
    "        0.06010017,\n",
    "        0.50746269, \n",
    "        0.16607774, \n",
    "        0.37547601, \n",
    "        0.41732283, \n",
    "        0.40718563,\n",
    "        0.61538462\n",
    "        ]]\n",
    "    }\n",
    ")"
   ]
  },
  {
   "cell_type": "code",
   "execution_count": null,
   "id": "25a1c99e",
   "metadata": {},
   "outputs": [],
   "source": [
    "%pip install numexpr"
   ]
  },
  {
   "cell_type": "code",
   "execution_count": null,
   "id": "a7f9e85e",
   "metadata": {},
   "outputs": [],
   "source": [
    "from langchain.agents import load_tools\n",
    "from langchain_openai import ChatOpenAI  # pip install langchain-openai\n",
    "\n",
    "model = ChatOpenAI(\n",
    "    openai_api_key=\"\", \n",
    "    temperature=.75, \n",
    "    max_tokens=1024, \n",
    "    request_timeout=30\n",
    ")\n",
    "\n",
    "tools = load_tools([\"llm-math\"], llm=model)  \n",
    "tools.append(predict_wine_quality)\n",
    "# tools = load_tools([predict_wine_quality], allow_dangerous_tools=True)\n"
   ]
  },
  {
   "cell_type": "code",
   "execution_count": null,
   "id": "d337915c",
   "metadata": {},
   "outputs": [],
   "source": [
    "from langchain.prompts import ChatPromptTemplate\n",
    "\n",
    "system_prompt = \"\"\"\n",
    "You are an agent designed to give information about wines. You have access to a machine learning model, which you can use to answer to the user prompts. \n",
    "You might know the answer without using the model, but you should still use the model when possible to get the answer. \n",
    "If it does not seem like you cannot use the model to answer the question, just return \"I don't know\" as the answer. \n",
    "You have access to the following tools:\\n\\n{tools}\\n\\n\n",
    "The way you use the tools is by getting a list of numbers from the user.\\n\n",
    "ALWAYS use the following format:\\n\\nQuestion: the input question you must answer\\n\n",
    "Thought: you should always think about what to do\\n\n",
    "Action:\\n```\\n$JSON_BLOB\\n```\\n\n",
    "Observation: the result of the action\\n\n",
    "... (this Thought/Action/Observation can repeat N times)\\n\n",
    "Thought: I now know the final answer\\n\n",
    "Final Answer: the final answer to the original input question\\n\\n\n",
    "Begin! Reminder to always use the exact characters `Final Answer` when responding.\n",
    "\"\"\"\n",
    "\n",
    "prompt = ChatPromptTemplate.from_messages([\n",
    "    (\"system\", system_prompt),\n",
    "    (\"user\", \"{input}\")\n",
    "])"
   ]
  },
  {
   "cell_type": "code",
   "execution_count": null,
   "id": "93183337",
   "metadata": {},
   "outputs": [],
   "source": [
    "from langchain.agents.format_scratchpad import format_log_to_str  \n",
    "from langchain_core.output_parsers import StrOutputParser\n",
    "\n",
    "chat_model_with_stop = model.bind(stop=[\"\\nFinal Answer\"]) \n",
    "\n",
    "agent = (\n",
    "    {\n",
    "        \"input\": lambda x: x[\"input\"],\n",
    "        \"agent_scratchpad\": lambda x: format_log_to_str(x[\"intermediate_steps\"]),\n",
    "        \"tools\": lambda x: x[\"tool\"]\n",
    "    }\n",
    "    | prompt\n",
    "    | chat_model_with_stop\n",
    "    | StrOutputParser()\n",
    ")"
   ]
  },
  {
   "cell_type": "code",
   "execution_count": null,
   "id": "b6df9f1e",
   "metadata": {},
   "outputs": [],
   "source": [
    "from langchain.agents import AgentExecutor\n",
    "\n",
    "agent_executor = AgentExecutor(\n",
    "    agent=agent, \n",
    "    tools=tools, \n",
    "    verbose=True, \n",
    "    handle_parsing_errors=True\n",
    ")"
   ]
  },
  {
   "cell_type": "code",
   "execution_count": null,
   "id": "a064aad6",
   "metadata": {},
   "outputs": [],
   "source": [
    "agent_executor.invoke({\"input\": \"Ciao\"})"
   ]
  },
  {
   "cell_type": "code",
   "execution_count": 7,
   "id": "aa1feea0",
   "metadata": {},
   "outputs": [
    {
     "data": {
      "text/plain": [
       "'2.13.0'"
      ]
     },
     "execution_count": 7,
     "metadata": {},
     "output_type": "execute_result"
    }
   ],
   "source": [
    "tf.__version__"
   ]
  },
  {
   "cell_type": "code",
   "execution_count": null,
   "id": "83160523",
   "metadata": {},
   "outputs": [],
   "source": []
  }
 ],
 "metadata": {
  "kernelspec": {
   "display_name": "Python 3 (ipykernel)",
   "language": "python",
   "name": "python3"
  },
  "language_info": {
   "codemirror_mode": {
    "name": "ipython",
    "version": 3
   },
   "file_extension": ".py",
   "mimetype": "text/x-python",
   "name": "python",
   "nbconvert_exporter": "python",
   "pygments_lexer": "ipython3",
   "version": "3.10.0"
  }
 },
 "nbformat": 4,
 "nbformat_minor": 5
}
